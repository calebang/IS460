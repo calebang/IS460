{
 "cells": [
  {
   "cell_type": "code",
   "execution_count": 1,
   "id": "d55fb906",
   "metadata": {},
   "outputs": [],
   "source": [
    "import pandas as pd\n"
   ]
  },
  {
   "cell_type": "code",
   "execution_count": 2,
   "id": "af9dc8ba",
   "metadata": {},
   "outputs": [
    {
     "ename": "FileNotFoundError",
     "evalue": "[Errno 2] No such file or directory: 'C:\\\\Users\\\\drago\\\\IS460\\\\data\\\\df1.csv'",
     "output_type": "error",
     "traceback": [
      "\u001b[1;31m---------------------------------------------------------------------------\u001b[0m",
      "\u001b[1;31mFileNotFoundError\u001b[0m                         Traceback (most recent call last)",
      "\u001b[1;32m<ipython-input-2-ea5852740b96>\u001b[0m in \u001b[0;36m<module>\u001b[1;34m\u001b[0m\n\u001b[1;32m----> 1\u001b[1;33m \u001b[0mdf1\u001b[0m \u001b[1;33m=\u001b[0m \u001b[0mpd\u001b[0m\u001b[1;33m.\u001b[0m\u001b[0mread_csv\u001b[0m\u001b[1;33m(\u001b[0m\u001b[1;34m\"C:\\\\Users\\\\drago\\\\IS460\\\\data\\\\df1.csv\"\u001b[0m\u001b[1;33m)\u001b[0m\u001b[1;33m\u001b[0m\u001b[1;33m\u001b[0m\u001b[0m\n\u001b[0m\u001b[0;32m      2\u001b[0m \u001b[0mdf1\u001b[0m \u001b[1;33m=\u001b[0m \u001b[0mdf1\u001b[0m\u001b[1;33m.\u001b[0m\u001b[0mdrop\u001b[0m\u001b[1;33m(\u001b[0m\u001b[1;34m'Unnamed: 0'\u001b[0m\u001b[1;33m,\u001b[0m \u001b[0maxis\u001b[0m \u001b[1;33m=\u001b[0m \u001b[1;36m1\u001b[0m\u001b[1;33m)\u001b[0m\u001b[1;33m\u001b[0m\u001b[1;33m\u001b[0m\u001b[0m\n",
      "\u001b[1;32m~\\anaconda3\\lib\\site-packages\\pandas\\util\\_decorators.py\u001b[0m in \u001b[0;36mwrapper\u001b[1;34m(*args, **kwargs)\u001b[0m\n\u001b[0;32m    309\u001b[0m                     \u001b[0mstacklevel\u001b[0m\u001b[1;33m=\u001b[0m\u001b[0mstacklevel\u001b[0m\u001b[1;33m,\u001b[0m\u001b[1;33m\u001b[0m\u001b[1;33m\u001b[0m\u001b[0m\n\u001b[0;32m    310\u001b[0m                 )\n\u001b[1;32m--> 311\u001b[1;33m             \u001b[1;32mreturn\u001b[0m \u001b[0mfunc\u001b[0m\u001b[1;33m(\u001b[0m\u001b[1;33m*\u001b[0m\u001b[0margs\u001b[0m\u001b[1;33m,\u001b[0m \u001b[1;33m**\u001b[0m\u001b[0mkwargs\u001b[0m\u001b[1;33m)\u001b[0m\u001b[1;33m\u001b[0m\u001b[1;33m\u001b[0m\u001b[0m\n\u001b[0m\u001b[0;32m    312\u001b[0m \u001b[1;33m\u001b[0m\u001b[0m\n\u001b[0;32m    313\u001b[0m         \u001b[1;32mreturn\u001b[0m \u001b[0mwrapper\u001b[0m\u001b[1;33m\u001b[0m\u001b[1;33m\u001b[0m\u001b[0m\n",
      "\u001b[1;32m~\\anaconda3\\lib\\site-packages\\pandas\\io\\parsers\\readers.py\u001b[0m in \u001b[0;36mread_csv\u001b[1;34m(filepath_or_buffer, sep, delimiter, header, names, index_col, usecols, squeeze, prefix, mangle_dupe_cols, dtype, engine, converters, true_values, false_values, skipinitialspace, skiprows, skipfooter, nrows, na_values, keep_default_na, na_filter, verbose, skip_blank_lines, parse_dates, infer_datetime_format, keep_date_col, date_parser, dayfirst, cache_dates, iterator, chunksize, compression, thousands, decimal, lineterminator, quotechar, quoting, doublequote, escapechar, comment, encoding, encoding_errors, dialect, error_bad_lines, warn_bad_lines, on_bad_lines, delim_whitespace, low_memory, memory_map, float_precision, storage_options)\u001b[0m\n\u001b[0;32m    678\u001b[0m     \u001b[0mkwds\u001b[0m\u001b[1;33m.\u001b[0m\u001b[0mupdate\u001b[0m\u001b[1;33m(\u001b[0m\u001b[0mkwds_defaults\u001b[0m\u001b[1;33m)\u001b[0m\u001b[1;33m\u001b[0m\u001b[1;33m\u001b[0m\u001b[0m\n\u001b[0;32m    679\u001b[0m \u001b[1;33m\u001b[0m\u001b[0m\n\u001b[1;32m--> 680\u001b[1;33m     \u001b[1;32mreturn\u001b[0m \u001b[0m_read\u001b[0m\u001b[1;33m(\u001b[0m\u001b[0mfilepath_or_buffer\u001b[0m\u001b[1;33m,\u001b[0m \u001b[0mkwds\u001b[0m\u001b[1;33m)\u001b[0m\u001b[1;33m\u001b[0m\u001b[1;33m\u001b[0m\u001b[0m\n\u001b[0m\u001b[0;32m    681\u001b[0m \u001b[1;33m\u001b[0m\u001b[0m\n\u001b[0;32m    682\u001b[0m \u001b[1;33m\u001b[0m\u001b[0m\n",
      "\u001b[1;32m~\\anaconda3\\lib\\site-packages\\pandas\\io\\parsers\\readers.py\u001b[0m in \u001b[0;36m_read\u001b[1;34m(filepath_or_buffer, kwds)\u001b[0m\n\u001b[0;32m    573\u001b[0m \u001b[1;33m\u001b[0m\u001b[0m\n\u001b[0;32m    574\u001b[0m     \u001b[1;31m# Create the parser.\u001b[0m\u001b[1;33m\u001b[0m\u001b[1;33m\u001b[0m\u001b[0m\n\u001b[1;32m--> 575\u001b[1;33m     \u001b[0mparser\u001b[0m \u001b[1;33m=\u001b[0m \u001b[0mTextFileReader\u001b[0m\u001b[1;33m(\u001b[0m\u001b[0mfilepath_or_buffer\u001b[0m\u001b[1;33m,\u001b[0m \u001b[1;33m**\u001b[0m\u001b[0mkwds\u001b[0m\u001b[1;33m)\u001b[0m\u001b[1;33m\u001b[0m\u001b[1;33m\u001b[0m\u001b[0m\n\u001b[0m\u001b[0;32m    576\u001b[0m \u001b[1;33m\u001b[0m\u001b[0m\n\u001b[0;32m    577\u001b[0m     \u001b[1;32mif\u001b[0m \u001b[0mchunksize\u001b[0m \u001b[1;32mor\u001b[0m \u001b[0miterator\u001b[0m\u001b[1;33m:\u001b[0m\u001b[1;33m\u001b[0m\u001b[1;33m\u001b[0m\u001b[0m\n",
      "\u001b[1;32m~\\anaconda3\\lib\\site-packages\\pandas\\io\\parsers\\readers.py\u001b[0m in \u001b[0;36m__init__\u001b[1;34m(self, f, engine, **kwds)\u001b[0m\n\u001b[0;32m    931\u001b[0m \u001b[1;33m\u001b[0m\u001b[0m\n\u001b[0;32m    932\u001b[0m         \u001b[0mself\u001b[0m\u001b[1;33m.\u001b[0m\u001b[0mhandles\u001b[0m\u001b[1;33m:\u001b[0m \u001b[0mIOHandles\u001b[0m \u001b[1;33m|\u001b[0m \u001b[1;32mNone\u001b[0m \u001b[1;33m=\u001b[0m \u001b[1;32mNone\u001b[0m\u001b[1;33m\u001b[0m\u001b[1;33m\u001b[0m\u001b[0m\n\u001b[1;32m--> 933\u001b[1;33m         \u001b[0mself\u001b[0m\u001b[1;33m.\u001b[0m\u001b[0m_engine\u001b[0m \u001b[1;33m=\u001b[0m \u001b[0mself\u001b[0m\u001b[1;33m.\u001b[0m\u001b[0m_make_engine\u001b[0m\u001b[1;33m(\u001b[0m\u001b[0mf\u001b[0m\u001b[1;33m,\u001b[0m \u001b[0mself\u001b[0m\u001b[1;33m.\u001b[0m\u001b[0mengine\u001b[0m\u001b[1;33m)\u001b[0m\u001b[1;33m\u001b[0m\u001b[1;33m\u001b[0m\u001b[0m\n\u001b[0m\u001b[0;32m    934\u001b[0m \u001b[1;33m\u001b[0m\u001b[0m\n\u001b[0;32m    935\u001b[0m     \u001b[1;32mdef\u001b[0m \u001b[0mclose\u001b[0m\u001b[1;33m(\u001b[0m\u001b[0mself\u001b[0m\u001b[1;33m)\u001b[0m\u001b[1;33m:\u001b[0m\u001b[1;33m\u001b[0m\u001b[1;33m\u001b[0m\u001b[0m\n",
      "\u001b[1;32m~\\anaconda3\\lib\\site-packages\\pandas\\io\\parsers\\readers.py\u001b[0m in \u001b[0;36m_make_engine\u001b[1;34m(self, f, engine)\u001b[0m\n\u001b[0;32m   1215\u001b[0m             \u001b[1;31m# \"Union[str, PathLike[str], ReadCsvBuffer[bytes], ReadCsvBuffer[str]]\"\u001b[0m\u001b[1;33m\u001b[0m\u001b[1;33m\u001b[0m\u001b[0m\n\u001b[0;32m   1216\u001b[0m             \u001b[1;31m# , \"str\", \"bool\", \"Any\", \"Any\", \"Any\", \"Any\", \"Any\"\u001b[0m\u001b[1;33m\u001b[0m\u001b[1;33m\u001b[0m\u001b[0m\n\u001b[1;32m-> 1217\u001b[1;33m             self.handles = get_handle(  # type: ignore[call-overload]\n\u001b[0m\u001b[0;32m   1218\u001b[0m                 \u001b[0mf\u001b[0m\u001b[1;33m,\u001b[0m\u001b[1;33m\u001b[0m\u001b[1;33m\u001b[0m\u001b[0m\n\u001b[0;32m   1219\u001b[0m                 \u001b[0mmode\u001b[0m\u001b[1;33m,\u001b[0m\u001b[1;33m\u001b[0m\u001b[1;33m\u001b[0m\u001b[0m\n",
      "\u001b[1;32m~\\anaconda3\\lib\\site-packages\\pandas\\io\\common.py\u001b[0m in \u001b[0;36mget_handle\u001b[1;34m(path_or_buf, mode, encoding, compression, memory_map, is_text, errors, storage_options)\u001b[0m\n\u001b[0;32m    787\u001b[0m         \u001b[1;32mif\u001b[0m \u001b[0mioargs\u001b[0m\u001b[1;33m.\u001b[0m\u001b[0mencoding\u001b[0m \u001b[1;32mand\u001b[0m \u001b[1;34m\"b\"\u001b[0m \u001b[1;32mnot\u001b[0m \u001b[1;32min\u001b[0m \u001b[0mioargs\u001b[0m\u001b[1;33m.\u001b[0m\u001b[0mmode\u001b[0m\u001b[1;33m:\u001b[0m\u001b[1;33m\u001b[0m\u001b[1;33m\u001b[0m\u001b[0m\n\u001b[0;32m    788\u001b[0m             \u001b[1;31m# Encoding\u001b[0m\u001b[1;33m\u001b[0m\u001b[1;33m\u001b[0m\u001b[0m\n\u001b[1;32m--> 789\u001b[1;33m             handle = open(\n\u001b[0m\u001b[0;32m    790\u001b[0m                 \u001b[0mhandle\u001b[0m\u001b[1;33m,\u001b[0m\u001b[1;33m\u001b[0m\u001b[1;33m\u001b[0m\u001b[0m\n\u001b[0;32m    791\u001b[0m                 \u001b[0mioargs\u001b[0m\u001b[1;33m.\u001b[0m\u001b[0mmode\u001b[0m\u001b[1;33m,\u001b[0m\u001b[1;33m\u001b[0m\u001b[1;33m\u001b[0m\u001b[0m\n",
      "\u001b[1;31mFileNotFoundError\u001b[0m: [Errno 2] No such file or directory: 'C:\\\\Users\\\\drago\\\\IS460\\\\data\\\\df1.csv'"
     ]
    }
   ],
   "source": [
    "df1 = pd.read_csv(\"C:\\\\Users\\\\drago\\\\IS460\\\\data\\\\df1.csv\")\n",
    "df1 = df1.drop('Unnamed: 0', axis = 1)"
   ]
  },
  {
   "cell_type": "code",
   "execution_count": 4,
   "id": "92043e32",
   "metadata": {},
   "outputs": [],
   "source": [
    "X = df1.drop('price_boxcox_scaled', axis = 1)\n",
    "y = df1['price_boxcox_scaled']"
   ]
  },
  {
   "cell_type": "code",
   "execution_count": 5,
   "id": "9997a9ac",
   "metadata": {},
   "outputs": [
    {
     "name": "stdout",
     "output_type": "stream",
     "text": [
      "(238021, 9)\n",
      "(59506,)\n"
     ]
    }
   ],
   "source": [
    "from sklearn.model_selection import train_test_split\n",
    "from sklearn.neural_network import MLPRegressor\n",
    "X_train,X_test,y_train,y_test = train_test_split(X,y, test_size = 0.2)\n",
    "print(X_train.shape)\n",
    "print(y_test.shape)"
   ]
  },
  {
   "cell_type": "code",
   "execution_count": 47,
   "id": "45929ae4",
   "metadata": {},
   "outputs": [],
   "source": [
    "from sklearn.neural_network import MLPRegressor"
   ]
  },
  {
   "cell_type": "code",
   "execution_count": 36,
   "id": "7e35c107",
   "metadata": {},
   "outputs": [
    {
     "data": {
      "text/plain": [
       "MLPRegressor(max_iter=500)"
      ]
     },
     "execution_count": 36,
     "metadata": {},
     "output_type": "execute_result"
    }
   ],
   "source": [
    "mlp = MLPRegressor(max_iter = 500, activation = 'relu')\n",
    "mlp"
   ]
  },
  {
   "cell_type": "code",
   "execution_count": 74,
   "id": "96691bd4",
   "metadata": {},
   "outputs": [
    {
     "data": {
      "text/plain": [
       "MLPRegressor(max_iter=4500)"
      ]
     },
     "execution_count": 74,
     "metadata": {},
     "output_type": "execute_result"
    }
   ],
   "source": [
    "mlp.fit(X_train,y_train)"
   ]
  },
  {
   "cell_type": "code",
   "execution_count": 75,
   "id": "886eabec",
   "metadata": {},
   "outputs": [],
   "source": [
    "y_mlp_train_pred = mlp.predict(X_train)\n",
    "y_mlp_test_pred = mlp.predict(X_test)"
   ]
  },
  {
   "cell_type": "code",
   "execution_count": 95,
   "id": "f8fea8ad",
   "metadata": {},
   "outputs": [],
   "source": [
    "from sklearn.metrics import mean_squared_error, r2_score,mean_absolute_percentage_error\n",
    "\n",
    "mlp_train_mse = mean_squared_error(y_train, y_mlp_train_pred)\n",
    "mlp_train_r2 = r2_score(y_train, y_mlp_train_pred)\n",
    "\n",
    "mlp_test_mse = mean_squared_error(y_test, y_mlp_test_pred)\n",
    "mlp_test_r2 = r2_score(y_test, y_mlp_test_pred)\n",
    "mlp_test_mape = mean_absolute_percentage_error(y_test, y_mlp_test_pred)"
   ]
  },
  {
   "cell_type": "code",
   "execution_count": 97,
   "id": "26344a69",
   "metadata": {},
   "outputs": [],
   "source": [
    "mlp_results = pd.DataFrame(['Multi-Layer Perceptron', mlp_train_mse, mlp_train_r2, mlp_test_mse, mlp_test_r2,mlp_test_mape]).transpose()\n",
    "mlp_results.columns = ['Method', 'Training MSE', 'Training R2', 'Test MSE', 'Test R2','Test MAPE']"
   ]
  },
  {
   "cell_type": "code",
   "execution_count": 98,
   "id": "e3e0719c",
   "metadata": {},
   "outputs": [
    {
     "data": {
      "text/html": [
       "<div>\n",
       "<style scoped>\n",
       "    .dataframe tbody tr th:only-of-type {\n",
       "        vertical-align: middle;\n",
       "    }\n",
       "\n",
       "    .dataframe tbody tr th {\n",
       "        vertical-align: top;\n",
       "    }\n",
       "\n",
       "    .dataframe thead th {\n",
       "        text-align: right;\n",
       "    }\n",
       "</style>\n",
       "<table border=\"1\" class=\"dataframe\">\n",
       "  <thead>\n",
       "    <tr style=\"text-align: right;\">\n",
       "      <th></th>\n",
       "      <th>Method</th>\n",
       "      <th>Training MSE</th>\n",
       "      <th>Training R2</th>\n",
       "      <th>Test MSE</th>\n",
       "      <th>Test R2</th>\n",
       "      <th>Test MAPE</th>\n",
       "    </tr>\n",
       "  </thead>\n",
       "  <tbody>\n",
       "    <tr>\n",
       "      <th>0</th>\n",
       "      <td>Multi-Layer Perceptron</td>\n",
       "      <td>0.126674</td>\n",
       "      <td>0.873322</td>\n",
       "      <td>0.127668</td>\n",
       "      <td>0.871895</td>\n",
       "      <td>1.348455</td>\n",
       "    </tr>\n",
       "  </tbody>\n",
       "</table>\n",
       "</div>"
      ],
      "text/plain": [
       "                   Method Training MSE Training R2  Test MSE   Test R2  \\\n",
       "0  Multi-Layer Perceptron     0.126674    0.873322  0.127668  0.871895   \n",
       "\n",
       "  Test MAPE  \n",
       "0  1.348455  "
      ]
     },
     "execution_count": 98,
     "metadata": {},
     "output_type": "execute_result"
    }
   ],
   "source": [
    "mlp_results"
   ]
  },
  {
   "cell_type": "code",
   "execution_count": 80,
   "id": "16dc7bfc",
   "metadata": {},
   "outputs": [
    {
     "data": {
      "text/plain": [
       "MLPRegressor(max_iter=1000)"
      ]
     },
     "execution_count": 80,
     "metadata": {},
     "output_type": "execute_result"
    }
   ],
   "source": [
    "mlp1 = MLPRegressor(max_iter = 1000, activation = 'relu')\n",
    "mlp1"
   ]
  },
  {
   "cell_type": "code",
   "execution_count": 81,
   "id": "32b8496c",
   "metadata": {},
   "outputs": [
    {
     "data": {
      "text/plain": [
       "MLPRegressor(max_iter=1000)"
      ]
     },
     "execution_count": 81,
     "metadata": {},
     "output_type": "execute_result"
    }
   ],
   "source": [
    "mlp1.fit(X_train,y_train)"
   ]
  },
  {
   "cell_type": "code",
   "execution_count": 82,
   "id": "c63212fd",
   "metadata": {},
   "outputs": [],
   "source": [
    "y_mlp1_train_pred = mlp1.predict(X_train)\n",
    "y_mlp1_test_pred = mlp1.predict(X_test)"
   ]
  },
  {
   "cell_type": "code",
   "execution_count": 99,
   "id": "ea6890dd",
   "metadata": {},
   "outputs": [],
   "source": [
    "from sklearn.metrics import mean_squared_error, r2_score\n",
    "\n",
    "mlp1_train_mse = mean_squared_error(y_train, y_mlp1_train_pred)\n",
    "mlp1_train_r2 = r2_score(y_train, y_mlp1_train_pred)\n",
    "\n",
    "mlp1_test_mse = mean_squared_error(y_test, y_mlp1_test_pred)\n",
    "mlp1_test_r2 = r2_score(y_test, y_mlp1_test_pred)\n",
    "mlp1_test_mape = mean_absolute_percentage_error(y_test, y_mlp1_test_pred)"
   ]
  },
  {
   "cell_type": "code",
   "execution_count": 101,
   "id": "ede68f33",
   "metadata": {},
   "outputs": [],
   "source": [
    "mlp1_results = pd.DataFrame(['Multi-Layer Perceptron', mlp1_train_mse, mlp1_train_r2, mlp1_test_mse, mlp1_test_r2,mlp1_test_mape]).transpose()\n",
    "mlp1_results.columns = ['Method', 'Training MSE', 'Training R2', 'Test MSE', 'Test R2','Test MAPE']"
   ]
  },
  {
   "cell_type": "code",
   "execution_count": 102,
   "id": "278926e7",
   "metadata": {},
   "outputs": [
    {
     "data": {
      "text/html": [
       "<div>\n",
       "<style scoped>\n",
       "    .dataframe tbody tr th:only-of-type {\n",
       "        vertical-align: middle;\n",
       "    }\n",
       "\n",
       "    .dataframe tbody tr th {\n",
       "        vertical-align: top;\n",
       "    }\n",
       "\n",
       "    .dataframe thead th {\n",
       "        text-align: right;\n",
       "    }\n",
       "</style>\n",
       "<table border=\"1\" class=\"dataframe\">\n",
       "  <thead>\n",
       "    <tr style=\"text-align: right;\">\n",
       "      <th></th>\n",
       "      <th>Method</th>\n",
       "      <th>Training MSE</th>\n",
       "      <th>Training R2</th>\n",
       "      <th>Test MSE</th>\n",
       "      <th>Test R2</th>\n",
       "      <th>Test MAPE</th>\n",
       "    </tr>\n",
       "  </thead>\n",
       "  <tbody>\n",
       "    <tr>\n",
       "      <th>0</th>\n",
       "      <td>Multi-Layer Perceptron</td>\n",
       "      <td>0.125971</td>\n",
       "      <td>0.874026</td>\n",
       "      <td>0.126946</td>\n",
       "      <td>0.87262</td>\n",
       "      <td>1.320629</td>\n",
       "    </tr>\n",
       "  </tbody>\n",
       "</table>\n",
       "</div>"
      ],
      "text/plain": [
       "                   Method Training MSE Training R2  Test MSE  Test R2  \\\n",
       "0  Multi-Layer Perceptron     0.125971    0.874026  0.126946  0.87262   \n",
       "\n",
       "  Test MAPE  \n",
       "0  1.320629  "
      ]
     },
     "execution_count": 102,
     "metadata": {},
     "output_type": "execute_result"
    }
   ],
   "source": [
    "mlp1_results"
   ]
  },
  {
   "cell_type": "code",
   "execution_count": 103,
   "id": "e223dc92",
   "metadata": {},
   "outputs": [
    {
     "name": "stdout",
     "output_type": "stream",
     "text": [
      "                   Method Training MSE Training R2  Test MSE   Test R2  \\\n",
      "0  Multi-Layer Perceptron     0.125607     0.87439  0.126654  0.872912   \n",
      "\n",
      "  Test MAPE  \n",
      "0  1.346908  \n",
      "                   Method Training MSE Training R2  Test MSE   Test R2  \\\n",
      "0  Multi-Layer Perceptron      0.12184    0.878157  0.122785  0.876795   \n",
      "\n",
      "  Test MAPE  \n",
      "0   1.32374  \n",
      "                   Method Training MSE Training R2  Test MSE   Test R2  \\\n",
      "0  Multi-Layer Perceptron     0.123479    0.876518  0.124434  0.875141   \n",
      "\n",
      "  Test MAPE  \n",
      "0  1.349507  \n",
      "                   Method Training MSE Training R2  Test MSE   Test R2  \\\n",
      "0  Multi-Layer Perceptron     0.123148    0.876848  0.124292  0.875283   \n",
      "\n",
      "  Test MAPE  \n",
      "0  1.392124  \n"
     ]
    }
   ],
   "source": [
    "### checking if increasing no of iterations improve model\n",
    "for i in range(1,5):\n",
    "    mlp = MLPRegressor(max_iter = 1000+500*i, activation = 'relu')\n",
    "    mlp.fit(X_train,y_train)\n",
    "    y_mlp_train_pred = mlp.predict(X_train)\n",
    "    y_mlp_test_pred = mlp.predict(X_test)\n",
    "    mlp_train_mse = mean_squared_error(y_train, y_mlp_train_pred)\n",
    "    mlp_train_r2 = r2_score(y_train, y_mlp_train_pred)\n",
    "    mlp_test_mse = mean_squared_error(y_test, y_mlp_test_pred)\n",
    "    mlp_test_r2 = r2_score(y_test, y_mlp_test_pred)\n",
    "    mlp_test_mape = mean_absolute_percentage_error(y_test, y_mlp_test_pred)\n",
    "    mlp_results = pd.DataFrame(['Multi-Layer Perceptron', mlp_train_mse, mlp_train_r2, mlp_test_mse, mlp_test_r2,mlp_test_mape]).transpose()\n",
    "    mlp_results.columns = ['Method', 'Training MSE', 'Training R2', 'Test MSE', 'Test R2', 'Test MAPE']\n",
    "    print(mlp_results)"
   ]
  },
  {
   "cell_type": "code",
   "execution_count": 9,
   "id": "14b7f8dc",
   "metadata": {},
   "outputs": [
    {
     "ename": "TypeError",
     "evalue": "inv_boxcox() takes from 2 to 3 positional arguments but 1 were given",
     "output_type": "error",
     "traceback": [
      "\u001b[1;31m---------------------------------------------------------------------------\u001b[0m",
      "\u001b[1;31mTypeError\u001b[0m                                 Traceback (most recent call last)",
      "\u001b[1;32m<ipython-input-9-eaab96492995>\u001b[0m in \u001b[0;36m<module>\u001b[1;34m\u001b[0m\n\u001b[0;32m      1\u001b[0m \u001b[1;32mimport\u001b[0m \u001b[0mscipy\u001b[0m\u001b[1;33m\u001b[0m\u001b[1;33m\u001b[0m\u001b[0m\n\u001b[1;32m----> 2\u001b[1;33m \u001b[0mscipy\u001b[0m\u001b[1;33m.\u001b[0m\u001b[0mspecial\u001b[0m\u001b[1;33m.\u001b[0m\u001b[0minv_boxcox\u001b[0m\u001b[1;33m(\u001b[0m\u001b[1;36m0.3686\u001b[0m\u001b[1;33m,\u001b[0m \u001b[0mlmbda\u001b[0m \u001b[1;33m=\u001b[0m \u001b[1;36m0\u001b[0m\u001b[1;33m)\u001b[0m\u001b[1;33m\u001b[0m\u001b[1;33m\u001b[0m\u001b[0m\n\u001b[0m",
      "\u001b[1;31mTypeError\u001b[0m: inv_boxcox() takes from 2 to 3 positional arguments but 1 were given"
     ]
    }
   ],
   "source": [
    "import scipy\n",
    "scipy.special.inv_boxcox(0.3686, lmbda = 0)"
   ]
  },
  {
   "cell_type": "code",
   "execution_count": null,
   "id": "cfc981ba",
   "metadata": {},
   "outputs": [],
   "source": []
  },
  {
   "cell_type": "code",
   "execution_count": 2,
   "id": "8367287d",
   "metadata": {},
   "outputs": [
    {
     "name": "stdout",
     "output_type": "stream",
     "text": [
      "0.8767784337865775\n"
     ]
    }
   ],
   "source": [
    "adjrsquared1 = 1-((1-0.876795)*(59506-1)/(59506-8-1))\n",
    "print(adjrsquared1)"
   ]
  },
  {
   "cell_type": "code",
   "execution_count": 73,
   "id": "bfed3f13",
   "metadata": {},
   "outputs": [
    {
     "name": "stdout",
     "output_type": "stream",
     "text": [
      "                   Method Training MSE Training R2  Test MSE   Test R2\n",
      "0  Multi-Layer Perceptron     0.126634    0.873362  0.127799  0.871764\n",
      "                   Method Training MSE Training R2  Test MSE  Test R2\n",
      "0  Multi-Layer Perceptron     0.122622    0.877375  0.123816  0.87576\n",
      "                   Method Training MSE Training R2  Test MSE  Test R2\n",
      "0  Multi-Layer Perceptron     0.122866     0.87713  0.124036  0.87554\n",
      "                   Method Training MSE Training R2  Test MSE   Test R2\n",
      "0  Multi-Layer Perceptron     0.126278    0.873718  0.127095  0.872471\n"
     ]
    }
   ],
   "source": [
    "### checking if increasing no of iterations improve model\n",
    "for i in range(1,5):\n",
    "    mlp = MLPRegressor(max_iter = 2500+500*i, activation = 'relu')\n",
    "    mlp.fit(X_train,y_train)\n",
    "    y_mlp_train_pred = mlp.predict(X_train)\n",
    "    y_mlp_test_pred = mlp.predict(X_test)\n",
    "    mlp_train_mse = mean_squared_error(y_train, y_mlp_train_pred)\n",
    "    mlp_train_r2 = r2_score(y_train, y_mlp_train_pred)\n",
    "    mlp_test_mse = mean_squared_error(y_test, y_mlp_test_pred)\n",
    "    mlp_test_r2 = r2_score(y_test, y_mlp_test_pred)\n",
    "    mlp_test_mape = mean_absolute_percentage_error(y_test, y_mlp_test_pred)\n",
    "    mlp_results = pd.DataFrame(['Multi-Layer Perceptron', mlp_train_mse, mlp_train_r2, mlp_test_mse, mlp_test_r2,mlp_test_mape]).transpose()\n",
    "    mlp_results.columns = ['Method', 'Training MSE', 'Training R2', 'Test MSE', 'Test R2', 'Test MAPE']\n",
    "    print(mlp_results)"
   ]
  },
  {
   "cell_type": "code",
   "execution_count": 104,
   "id": "2567da72",
   "metadata": {
    "scrolled": true
   },
   "outputs": [
    {
     "name": "stdout",
     "output_type": "stream",
     "text": [
      "                   Method Training MSE Training R2  Test MSE   Test R2  \\\n",
      "0  Multi-Layer Perceptron     0.175549    0.824447  0.177376  0.822018   \n",
      "\n",
      "  Test MAPE  \n",
      "0  1.556856  \n",
      "                   Method Training MSE Training R2  Test MSE   Test R2  \\\n",
      "0  Multi-Layer Perceptron     0.138572    0.861424  0.139495  0.860028   \n",
      "\n",
      "  Test MAPE  \n",
      "0   1.29629  \n",
      "                   Method Training MSE Training R2  Test MSE   Test R2  \\\n",
      "0  Multi-Layer Perceptron     0.135782    0.864215  0.136405  0.863128   \n",
      "\n",
      "  Test MAPE  \n",
      "0   1.28243  \n",
      "                   Method Training MSE Training R2  Test MSE   Test R2  \\\n",
      "0  Multi-Layer Perceptron     0.123983    0.876014  0.125071  0.874502   \n",
      "\n",
      "  Test MAPE  \n",
      "0  1.353684  \n"
     ]
    }
   ],
   "source": [
    "### seeing if diff activation functions improve model\n",
    "activation_type = ['identity','logistic','tanh','relu']\n",
    "\n",
    "for i in range(0,4):\n",
    "    mlp = MLPRegressor(max_iter = 1000, activation = activation_type[i])\n",
    "    mlp.fit(X_train,y_train)\n",
    "    y_mlp_train_pred = mlp.predict(X_train)\n",
    "    y_mlp_test_pred = mlp.predict(X_test)\n",
    "    mlp_train_mse = mean_squared_error(y_train, y_mlp_train_pred)\n",
    "    mlp_train_r2 = r2_score(y_train, y_mlp_train_pred)\n",
    "    mlp_test_mse = mean_squared_error(y_test, y_mlp_test_pred)\n",
    "    mlp_test_r2 = r2_score(y_test, y_mlp_test_pred)\n",
    "    mlp_test_mape = mean_absolute_percentage_error(y_test, y_mlp_test_pred)\n",
    "    mlp_results = pd.DataFrame(['Multi-Layer Perceptron', mlp_train_mse, mlp_train_r2, mlp_test_mse, mlp_test_r2,mlp_test_mape]).transpose()\n",
    "    mlp_results.columns = ['Method', 'Training MSE', 'Training R2', 'Test MSE', 'Test R2','Test MAPE']\n",
    "    print(mlp_results)\n",
    "    \n",
    "    ###tanh lower MSE and MAPE but relu higher test R-squared"
   ]
  },
  {
   "cell_type": "code",
   "execution_count": 105,
   "id": "e295ebc1",
   "metadata": {
    "scrolled": false
   },
   "outputs": [
    {
     "name": "stdout",
     "output_type": "stream",
     "text": [
      "                   Method Training MSE Training R2  Test MSE   Test R2  \\\n",
      "0  Multi-Layer Perceptron     0.134151    0.865845  0.135328  0.864209   \n",
      "\n",
      "  Test MAPE  \n",
      "0  1.397965  \n",
      "                   Method Training MSE Training R2  Test MSE   Test R2  \\\n",
      "0  Multi-Layer Perceptron     0.133682    0.866315  0.134592  0.864948   \n",
      "\n",
      "  Test MAPE  \n",
      "0  1.365513  \n",
      "                   Method Training MSE Training R2 Test MSE   Test R2  \\\n",
      "0  Multi-Layer Perceptron     0.132832    0.867164  0.13369  0.865853   \n",
      "\n",
      "  Test MAPE  \n",
      "0  1.348845  \n",
      "                   Method Training MSE Training R2 Test MSE   Test R2  \\\n",
      "0  Multi-Layer Perceptron     0.135249    0.864747   0.1359  0.863636   \n",
      "\n",
      "  Test MAPE  \n",
      "0  1.304916  \n"
     ]
    }
   ],
   "source": [
    "### checking if increasing no of iterations improve model tanh\n",
    "for i in range(1,5):\n",
    "    mlp = MLPRegressor(max_iter = 1000+500*i, activation = 'tanh')\n",
    "    mlp.fit(X_train,y_train)\n",
    "    y_mlp_train_pred = mlp.predict(X_train)\n",
    "    y_mlp_test_pred = mlp.predict(X_test)\n",
    "    mlp_train_mse = mean_squared_error(y_train, y_mlp_train_pred)\n",
    "    mlp_train_r2 = r2_score(y_train, y_mlp_train_pred)\n",
    "    mlp_test_mse = mean_squared_error(y_test, y_mlp_test_pred)\n",
    "    mlp_test_r2 = r2_score(y_test, y_mlp_test_pred)\n",
    "    mlp_test_mape = mean_absolute_percentage_error(y_test, y_mlp_test_pred)\n",
    "    mlp_results = pd.DataFrame(['Multi-Layer Perceptron', mlp_train_mse, mlp_train_r2, mlp_test_mse, mlp_test_r2,mlp_test_mape]).transpose()\n",
    "    mlp_results.columns = ['Method', 'Training MSE', 'Training R2', 'Test MSE', 'Test R2', 'Test MAPE']\n",
    "    print(mlp_results)"
   ]
  },
  {
   "cell_type": "code",
   "execution_count": 4,
   "id": "5804ac53",
   "metadata": {},
   "outputs": [
    {
     "name": "stdout",
     "output_type": "stream",
     "text": [
      "0.8636176644200547\n"
     ]
    }
   ],
   "source": [
    "adjrsquared2 = 1-((1-0.863636)*(59506-1)/(59506-8-1))\n",
    "print(adjrsquared2)"
   ]
  },
  {
   "cell_type": "code",
   "execution_count": null,
   "id": "89b61ee9",
   "metadata": {},
   "outputs": [],
   "source": [
    "### MAPE of tanh lower than relu but lower test R2"
   ]
  },
  {
   "cell_type": "code",
   "execution_count": 106,
   "id": "998d4627",
   "metadata": {},
   "outputs": [
    {
     "name": "stdout",
     "output_type": "stream",
     "text": [
      "                   Method Training MSE Training R2  Test MSE   Test R2  \\\n",
      "0  Multi-Layer Perceptron     0.134471    0.865525  0.135565  0.863971   \n",
      "\n",
      "  Test MAPE  \n",
      "0  1.385101  \n",
      "                   Method Training MSE Training R2  Test MSE   Test R2  \\\n",
      "0  Multi-Layer Perceptron     0.134357     0.86564  0.135296  0.864241   \n",
      "\n",
      "  Test MAPE  \n",
      "0  1.326529  \n",
      "                   Method Training MSE Training R2  Test MSE  Test R2  \\\n",
      "0  Multi-Layer Perceptron     0.133772    0.866225  0.134729  0.86481   \n",
      "\n",
      "  Test MAPE  \n",
      "0  1.346577  \n",
      "                   Method Training MSE Training R2  Test MSE   Test R2  \\\n",
      "0  Multi-Layer Perceptron     0.134122    0.865875  0.135221  0.864316   \n",
      "\n",
      "  Test MAPE  \n",
      "0  1.337493  \n"
     ]
    }
   ],
   "source": [
    "### checking if increasing no of iterations improve model tanh\n",
    "for i in range(1,5):\n",
    "    mlp = MLPRegressor(max_iter = 3000+500*i, activation = 'tanh')\n",
    "    mlp.fit(X_train,y_train)\n",
    "    y_mlp_train_pred = mlp.predict(X_train)\n",
    "    y_mlp_test_pred = mlp.predict(X_test)\n",
    "    mlp_train_mse = mean_squared_error(y_train, y_mlp_train_pred)\n",
    "    mlp_train_r2 = r2_score(y_train, y_mlp_train_pred)\n",
    "    mlp_test_mse = mean_squared_error(y_test, y_mlp_test_pred)\n",
    "    mlp_test_r2 = r2_score(y_test, y_mlp_test_pred)\n",
    "    mlp_test_mape = mean_absolute_percentage_error(y_test, y_mlp_test_pred)\n",
    "    mlp_results = pd.DataFrame(['Multi-Layer Perceptron', mlp_train_mse, mlp_train_r2, mlp_test_mse, mlp_test_r2,mlp_test_mape]).transpose()\n",
    "    mlp_results.columns = ['Method', 'Training MSE', 'Training R2', 'Test MSE', 'Test R2', 'Test MAPE']\n",
    "    print(mlp_results)"
   ]
  },
  {
   "cell_type": "markdown",
   "id": "02b3741a",
   "metadata": {},
   "source": [
    "### Trying on unscaled price"
   ]
  },
  {
   "cell_type": "code",
   "execution_count": 2,
   "id": "223da5f4",
   "metadata": {},
   "outputs": [],
   "source": [
    "df_new = pd.read_csv(\"C:\\\\Users\\\\drago\\\\IS460\\\\data\\\\df_prepared.csv\")\n",
    "df_new = df_new.drop('Unnamed: 0', axis = 1)"
   ]
  },
  {
   "cell_type": "code",
   "execution_count": 3,
   "id": "bea35556",
   "metadata": {},
   "outputs": [],
   "source": [
    "X = df_new.drop('price', axis = 1)\n",
    "y = df_new['price']"
   ]
  },
  {
   "cell_type": "code",
   "execution_count": 4,
   "id": "398cf97c",
   "metadata": {},
   "outputs": [
    {
     "name": "stdout",
     "output_type": "stream",
     "text": [
      "(236551, 9)\n",
      "(59138,)\n"
     ]
    }
   ],
   "source": [
    "from sklearn.model_selection import train_test_split\n",
    "X_train,X_test,y_train,y_test = train_test_split(X,y, test_size = 0.2)\n",
    "print(X_train.shape)\n",
    "print(y_test.shape)"
   ]
  },
  {
   "cell_type": "code",
   "execution_count": 5,
   "id": "fcf7230c",
   "metadata": {},
   "outputs": [],
   "source": [
    "from sklearn.metrics import mean_squared_error, r2_score,mean_absolute_percentage_error\n",
    "from sklearn.neural_network import MLPRegressor"
   ]
  },
  {
   "cell_type": "code",
   "execution_count": 21,
   "id": "248e6820",
   "metadata": {},
   "outputs": [
    {
     "name": "stdout",
     "output_type": "stream",
     "text": [
      "                   Method         Test MSE   Test R2 Test MAPE\n",
      "0  Multi-Layer Perceptron  65710876.013315  0.872004  0.485275\n"
     ]
    },
    {
     "name": "stderr",
     "output_type": "stream",
     "text": [
      "C:\\Users\\drago\\anaconda3\\lib\\site-packages\\sklearn\\neural_network\\_multilayer_perceptron.py:692: ConvergenceWarning: Stochastic Optimizer: Maximum iterations (1000) reached and the optimization hasn't converged yet.\n",
      "  warnings.warn(\n"
     ]
    }
   ],
   "source": [
    "mlp = MLPRegressor(max_iter = 1000, activation = 'relu')\n",
    "mlp.fit(X_train,y_train)\n",
    "y_mlp_test_pred = mlp.predict(X_test)\n",
    "mlp_test_mse = mean_squared_error(y_test, y_mlp_test_pred)\n",
    "mlp_test_r2 = r2_score(y_test, y_mlp_test_pred)\n",
    "mlp_test_mape = mean_absolute_percentage_error(y_test, y_mlp_test_pred)\n",
    "mlp_results = pd.DataFrame(['Multi-Layer Perceptron',mlp_test_mse, mlp_test_r2,mlp_test_mape]).transpose()\n",
    "mlp_results.columns = ['Method', 'Test MSE', 'Test R2', 'Test MAPE']\n",
    "print(mlp_results)"
   ]
  },
  {
   "cell_type": "code",
   "execution_count": 12,
   "id": "2eddb6f9",
   "metadata": {
    "scrolled": true
   },
   "outputs": [
    {
     "name": "stderr",
     "output_type": "stream",
     "text": [
      "C:\\Users\\drago\\anaconda3\\lib\\site-packages\\sklearn\\neural_network\\_multilayer_perceptron.py:692: ConvergenceWarning: Stochastic Optimizer: Maximum iterations (1500) reached and the optimization hasn't converged yet.\n",
      "  warnings.warn(\n"
     ]
    },
    {
     "name": "stdout",
     "output_type": "stream",
     "text": [
      "                   Method         Test MSE   Test R2 Test MAPE\n",
      "0  Multi-Layer Perceptron  62742832.607655  0.877785   0.45576\n"
     ]
    },
    {
     "name": "stderr",
     "output_type": "stream",
     "text": [
      "C:\\Users\\drago\\anaconda3\\lib\\site-packages\\sklearn\\neural_network\\_multilayer_perceptron.py:692: ConvergenceWarning: Stochastic Optimizer: Maximum iterations (2000) reached and the optimization hasn't converged yet.\n",
      "  warnings.warn(\n"
     ]
    },
    {
     "name": "stdout",
     "output_type": "stream",
     "text": [
      "                   Method         Test MSE   Test R2 Test MAPE\n",
      "0  Multi-Layer Perceptron  63793891.154189  0.875738  0.460051\n"
     ]
    }
   ],
   "source": [
    "### checking if increasing no of iterations improve model\n",
    "for i in range(1,3):\n",
    "    mlp = MLPRegressor(max_iter = 1000+500*i, activation = 'relu')\n",
    "    mlp.fit(X_train,y_train)\n",
    "    y_mlp_test_pred = mlp.predict(X_test)\n",
    "    mlp_test_mse = mean_squared_error(y_test, y_mlp_test_pred)\n",
    "    mlp_test_r2 = r2_score(y_test, y_mlp_test_pred)\n",
    "    mlp_test_mape = mean_absolute_percentage_error(y_test, y_mlp_test_pred)\n",
    "    mlp_results = pd.DataFrame(['Multi-Layer Perceptron',mlp_test_mse, mlp_test_r2,mlp_test_mape]).transpose()\n",
    "    mlp_results.columns = ['Method', 'Test MSE', 'Test R2', 'Test MAPE']\n",
    "    print(mlp_results)"
   ]
  },
  {
   "cell_type": "code",
   "execution_count": 19,
   "id": "e159937e",
   "metadata": {},
   "outputs": [],
   "source": [
    "#1500 is the best"
   ]
  },
  {
   "cell_type": "code",
   "execution_count": 20,
   "id": "eba5e1e0",
   "metadata": {},
   "outputs": [
    {
     "name": "stdout",
     "output_type": "stream",
     "text": [
      "                   Method         Test MSE   Test R2 Test MAPE\n",
      "0  Multi-Layer Perceptron  73029746.130671  0.857748  0.549625\n",
      "                   Method          Test MSE   Test R2 Test MAPE\n",
      "0  Multi-Layer Perceptron  513383804.989277 -0.000004  2.370834\n",
      "                   Method          Test MSE   Test R2 Test MAPE\n",
      "0  Multi-Layer Perceptron  513383790.057295 -0.000004  2.370856\n"
     ]
    },
    {
     "name": "stderr",
     "output_type": "stream",
     "text": [
      "C:\\Users\\drago\\anaconda3\\lib\\site-packages\\sklearn\\neural_network\\_multilayer_perceptron.py:692: ConvergenceWarning: Stochastic Optimizer: Maximum iterations (1000) reached and the optimization hasn't converged yet.\n",
      "  warnings.warn(\n"
     ]
    },
    {
     "name": "stdout",
     "output_type": "stream",
     "text": [
      "                   Method         Test MSE   Test R2 Test MAPE\n",
      "0  Multi-Layer Perceptron  64522880.815933  0.874318  0.468069\n"
     ]
    }
   ],
   "source": [
    "activation_type = ['identity','logistic','tanh','relu']\n",
    "\n",
    "for i in range(0,4):\n",
    "    mlp = MLPRegressor(max_iter = 1000, activation = activation_type[i])\n",
    "    mlp.fit(X_train,y_train)\n",
    "    y_mlp_train_pred = mlp.predict(X_train)\n",
    "    y_mlp_test_pred = mlp.predict(X_test)\n",
    "    mlp_test_mse = mean_squared_error(y_test, y_mlp_test_pred)\n",
    "    mlp_test_r2 = r2_score(y_test, y_mlp_test_pred)\n",
    "    mlp_test_mape = mean_absolute_percentage_error(y_test, y_mlp_test_pred)\n",
    "    mlp_results = pd.DataFrame(['Multi-Layer Perceptron', mlp_test_mse, mlp_test_r2,mlp_test_mape]).transpose()\n",
    "    mlp_results.columns = ['Method', 'Test MSE', 'Test R2','Test MAPE']\n",
    "    print(mlp_results)"
   ]
  },
  {
   "cell_type": "code",
   "execution_count": null,
   "id": "93a60c9f",
   "metadata": {},
   "outputs": [],
   "source": [
    "### including more hidden layers to uncover nonlinear relationships"
   ]
  },
  {
   "cell_type": "code",
   "execution_count": null,
   "id": "3a7cc589",
   "metadata": {},
   "outputs": [],
   "source": [
    "mlp2 = MLPRegressor(max_iter = 1500, activation = 'relu', hidden_layer_sizes =(100,100,))\n",
    "mlp2.fit(X_train,y_train)\n",
    "y_mlp2_test_pred = mlp2.predict(X_test)\n",
    "mlp2_test_mse = mean_squared_error(y_test, y_mlp2_test_pred)\n",
    "mlp2_test_r2 = r2_score(y_test, y_mlp2_test_pred)\n",
    "mlp2_test_mape = mean_absolute_percentage_error(y_test, y_mlp2_test_pred)\n",
    "ml_results = pd.DataFrame(['Multi-Layer Perceptron',mlp2_test_mse, mlp2_test_r2,mlp2_test_mape]).transpose()\n",
    "mlp2_results.columns = ['Method', 'Test MSE', 'Test Adj-R2', 'Test MAPE']\n",
    "print(mlp2_results)"
   ]
  },
  {
   "cell_type": "code",
   "execution_count": 11,
   "id": "cf8efe9f",
   "metadata": {},
   "outputs": [
    {
     "name": "stdout",
     "output_type": "stream",
     "text": [
      "                   Method         Test MSE Test Adj-R2 Test MAPE\n",
      "0  Multi-Layer Perceptron  51584182.216205    0.898795   0.35521\n"
     ]
    }
   ],
   "source": [
    "mlp2_results = pd.DataFrame(['Multi-Layer Perceptron',mlp2_test_mse, mlp2_test_r2,mlp2_test_mape]).transpose()\n",
    "mlp2_results.columns = ['Method', 'Test MSE', 'Test Adj-R2', 'Test MAPE']\n",
    "print(mlp2_results)"
   ]
  },
  {
   "cell_type": "code",
   "execution_count": 12,
   "id": "8b254b86",
   "metadata": {},
   "outputs": [
    {
     "name": "stdout",
     "output_type": "stream",
     "text": [
      "                   Method         Test MSE   Test R2 Test MAPE\n",
      "0  Multi-Layer Perceptron  52935436.647024  0.896144  0.364633\n"
     ]
    }
   ],
   "source": [
    "mlp3 = MLPRegressor(max_iter = 1500, activation = 'relu', hidden_layer_sizes =(100,100,100,))\n",
    "mlp3.fit(X_train,y_train)\n",
    "y_mlp3_test_pred = mlp3.predict(X_test)\n",
    "mlp3_test_mse = mean_squared_error(y_test, y_mlp3_test_pred)\n",
    "mlp3_test_r2 = r2_score(y_test, y_mlp3_test_pred)\n",
    "mlp3_test_mape = mean_absolute_percentage_error(y_test, y_mlp3_test_pred)\n",
    "mlp3_results = pd.DataFrame(['Multi-Layer Perceptron',mlp3_test_mse, mlp3_test_r2,mlp3_test_mape]).transpose()\n",
    "mlp3_results.columns = ['Method', 'Test MSE', 'Test R2', 'Test MAPE']\n",
    "print(mlp3_results)"
   ]
  },
  {
   "cell_type": "code",
   "execution_count": null,
   "id": "b50a3669",
   "metadata": {},
   "outputs": [],
   "source": []
  },
  {
   "cell_type": "code",
   "execution_count": null,
   "id": "b15d069e",
   "metadata": {},
   "outputs": [],
   "source": [
    "### change number of hidden units"
   ]
  },
  {
   "cell_type": "code",
   "execution_count": 28,
   "id": "65b2ba1e",
   "metadata": {},
   "outputs": [
    {
     "name": "stdout",
     "output_type": "stream",
     "text": [
      "                   Method         Test MSE   Test R2 Test MAPE\n",
      "0  Multi-Layer Perceptron  50430866.428704  0.901767  0.319129\n"
     ]
    },
    {
     "name": "stderr",
     "output_type": "stream",
     "text": [
      "C:\\Users\\drago\\anaconda3\\lib\\site-packages\\sklearn\\neural_network\\_multilayer_perceptron.py:699: UserWarning: Training interrupted by user.\n",
      "  warnings.warn(\"Training interrupted by user.\")\n"
     ]
    },
    {
     "name": "stdout",
     "output_type": "stream",
     "text": [
      "                   Method         Test MSE   Test R2 Test MAPE\n",
      "0  Multi-Layer Perceptron  51776443.180937  0.899146  0.326477\n"
     ]
    },
    {
     "name": "stderr",
     "output_type": "stream",
     "text": [
      "C:\\Users\\drago\\anaconda3\\lib\\site-packages\\sklearn\\neural_network\\_multilayer_perceptron.py:699: UserWarning: Training interrupted by user.\n",
      "  warnings.warn(\"Training interrupted by user.\")\n"
     ]
    },
    {
     "name": "stdout",
     "output_type": "stream",
     "text": [
      "                   Method         Test MSE   Test R2 Test MAPE\n",
      "0  Multi-Layer Perceptron  66271538.203005  0.870912  0.469502\n"
     ]
    }
   ],
   "source": [
    "### checking if increasing no of iterations improve model\n",
    "for i in range(1,4):\n",
    "    mlp = MLPRegressor(max_iter = 1500, activation = 'relu',hidden_layer_sizes=(100+50*i,100+50*i,100+50*i,))\n",
    "    mlp.fit(X_train,y_train)\n",
    "    y_mlp_test_pred = mlp.predict(X_test)\n",
    "    mlp_test_mse = mean_squared_error(y_test, y_mlp_test_pred)\n",
    "    mlp_test_r2 = r2_score(y_test, y_mlp_test_pred)\n",
    "    mlp_test_mape = mean_absolute_percentage_error(y_test, y_mlp_test_pred)\n",
    "    mlp_results = pd.DataFrame(['Multi-Layer Perceptron',mlp_test_mse, mlp_test_r2,mlp_test_mape]).transpose()\n",
    "    mlp_results.columns = ['Method', 'Test MSE', 'Test R2', 'Test MAPE']\n",
    "    print(mlp_results)"
   ]
  },
  {
   "cell_type": "markdown",
   "id": "448f5582",
   "metadata": {},
   "source": [
    "### took ~ 2hours to train 1 iteration of model"
   ]
  },
  {
   "cell_type": "markdown",
   "id": "bb41bdf2",
   "metadata": {},
   "source": [
    "1st iteration\n",
    "Method         Test MSE   Test R2 Test MAPE\n",
    "0  Multi-Layer Perceptron  50430866.428704  0.901767  0.319129"
   ]
  },
  {
   "cell_type": "markdown",
   "id": "c47f6cf2",
   "metadata": {},
   "source": [
    "2nd iteration\n",
    "Method         Test MSE   Test R2 Test MAPE\n",
    "0  Multi-Layer Perceptron  51776443.180937  0.899146  0.326477"
   ]
  },
  {
   "cell_type": "code",
   "execution_count": null,
   "id": "a5b2bac2",
   "metadata": {},
   "outputs": [],
   "source": []
  },
  {
   "cell_type": "code",
   "execution_count": 2,
   "id": "0cf6abc0",
   "metadata": {},
   "outputs": [],
   "source": [
    "import pandas as pd\n",
    "import numpy as np\n",
    "from sklearn.metrics import mean_squared_error, r2_score,mean_absolute_percentage_error\n",
    "from sklearn.neural_network import MLPRegressor\n",
    "import matplotlib.pyplot as plt"
   ]
  },
  {
   "cell_type": "code",
   "execution_count": 3,
   "id": "dc00ac9b",
   "metadata": {},
   "outputs": [],
   "source": [
    "df_new1 = pd.read_csv(\"C:\\\\Users\\\\drago\\\\OneDrive\\\\Desktop\\\\UNI\\\\Y3S2\\\\ML&Apps\\\\df_prepared.csv\")\n",
    "df_new1 = df_new1.drop('Unnamed: 0', axis = 1)"
   ]
  },
  {
   "cell_type": "code",
   "execution_count": 4,
   "id": "2acee10d",
   "metadata": {},
   "outputs": [],
   "source": [
    "X3 = df_new1.drop('price', axis = 1)\n",
    "y3 = df_new1['price']\n",
    "y3 = np.log(y3)"
   ]
  },
  {
   "cell_type": "code",
   "execution_count": 4,
   "id": "3f0a9956",
   "metadata": {},
   "outputs": [],
   "source": [
    "y4 = df_new1['price']"
   ]
  },
  {
   "cell_type": "code",
   "execution_count": 30,
   "id": "eb3a2ac7",
   "metadata": {},
   "outputs": [
    {
     "data": {
      "text/plain": [
       "Text(0.5, 6.79999999999999, 'price')"
      ]
     },
     "execution_count": 30,
     "metadata": {},
     "output_type": "execute_result"
    },
    {
     "data": {
      "image/png": "[encoded data removed]",
      "text/plain": [
       "<Figure size 360x360 with 1 Axes>"
      ]
     },
     "metadata": {
      "needs_background": "light"
     },
     "output_type": "display_data"
    }
   ],
   "source": [
    "sns.displot(y4)\n",
    "plt.xlabel(\"price\")"
   ]
  },
  {
   "cell_type": "code",
   "execution_count": 7,
   "id": "5a39e857",
   "metadata": {},
   "outputs": [],
   "source": [
    "import math"
   ]
  },
  {
   "cell_type": "code",
   "execution_count": 28,
   "id": "c4fce29b",
   "metadata": {},
   "outputs": [
    {
     "data": {
      "text/plain": [
       "Text(0.5, 6.79999999999999, 'log_price')"
      ]
     },
     "execution_count": 28,
     "metadata": {},
     "output_type": "execute_result"
    },
    {
     "data": {
      "image/png": "[encoded data removed]",
      "text/plain": [
       "<Figure size 360x360 with 1 Axes>"
      ]
     },
     "metadata": {
      "needs_background": "light"
     },
     "output_type": "display_data"
    }
   ],
   "source": [
    "import seaborn as sns\n",
    "sns.displot(y3)\n",
    "plt.xlabel(\"log_price\")"
   ]
  },
  {
   "cell_type": "code",
   "execution_count": null,
   "id": "b70c3dc7",
   "metadata": {},
   "outputs": [],
   "source": []
  },
  {
   "cell_type": "code",
   "execution_count": 5,
   "id": "4739d9bd",
   "metadata": {},
   "outputs": [
    {
     "name": "stdout",
     "output_type": "stream",
     "text": [
      "(236551, 9)\n",
      "(59138,)\n"
     ]
    }
   ],
   "source": [
    "from sklearn.model_selection import train_test_split\n",
    "X3_train,X3_test,y3_train,y3_test = train_test_split(X3,y3, test_size = 0.2)\n",
    "print(X3_train.shape)\n",
    "print(y3_test.shape)"
   ]
  },
  {
   "cell_type": "code",
   "execution_count": 14,
   "id": "771443e3",
   "metadata": {},
   "outputs": [
    {
     "name": "stdout",
     "output_type": "stream",
     "text": [
      "                   Method  Test MSE   Test R2 Test MAPE\n",
      "0  Multi-Layer Perceptron  4.812848 -2.892395  0.209059\n"
     ]
    }
   ],
   "source": [
    "mlp = MLPRegressor(max_iter = 1000, activation = 'relu')\n",
    "mlp.fit(X3_train,y3_train)\n",
    "y3_mlp_test_pred = mlp.predict(X3_test)\n",
    "mlp_test_mse = mean_squared_error(y3_test, y3_mlp_test_pred)\n",
    "mlp_test_r2 = r2_score(y3_test, y3_mlp_test_pred)\n",
    "mlp_test_mape = mean_absolute_percentage_error(y3_test, y3_mlp_test_pred)\n",
    "mlp_results = pd.DataFrame(['Multi-Layer Perceptron',mlp_test_mse, mlp_test_r2,mlp_test_mape]).transpose()\n",
    "mlp_results.columns = ['Method', 'Test MSE', 'Test R2', 'Test MAPE']\n",
    "print(mlp_results)"
   ]
  },
  {
   "cell_type": "code",
   "execution_count": 11,
   "id": "2311fd3f",
   "metadata": {},
   "outputs": [
    {
     "name": "stdout",
     "output_type": "stream",
     "text": [
      "                   Method    Test RMSE  Test R2 Test MAPE\n",
      "0  Multi-Layer Perceptron  7988.727335  0.87612   0.32956\n",
      "                   Method    Test RMSE   Test R2 Test MAPE\n",
      "0  Multi-Layer Perceptron  8237.651954  0.868279  0.329674\n",
      "                   Method    Test RMSE   Test R2 Test MAPE\n",
      "0  Multi-Layer Perceptron  8064.864219  0.873747   0.34496\n",
      "                   Method    Test RMSE  Test R2 Test MAPE\n",
      "0  Multi-Layer Perceptron  8226.371094  0.86864  0.322213\n"
     ]
    }
   ],
   "source": [
    "for i in range(1,5):\n",
    "    mlp = MLPRegressor(max_iter = 1000+500*i, activation = 'relu')\n",
    "    mlp.fit(X3_train,y3_train)\n",
    "    y_mlp_test_pred = mlp.predict(X3_test)\n",
    "    mlp_test_rmse = math.sqrt(mean_squared_error(np.exp(y3_test), np.exp(y_mlp_test_pred)))\n",
    "    mlp_test_r2 = r2_score(np.exp(y3_test), np.exp(y_mlp_test_pred))\n",
    "    mlp_test_mape = mean_absolute_percentage_error(np.exp(y3_test), np.exp(y_mlp_test_pred))\n",
    "    mlp_results = pd.DataFrame(['Multi-Layer Perceptron',mlp_test_rmse, mlp_test_r2,mlp_test_mape]).transpose()\n",
    "    mlp_results.columns = ['Method', 'Test RMSE', 'Test R2', 'Test MAPE']\n",
    "    print(mlp_results)"
   ]
  },
  {
   "cell_type": "code",
   "execution_count": 8,
   "id": "5cd88327",
   "metadata": {},
   "outputs": [
    {
     "name": "stdout",
     "output_type": "stream",
     "text": [
      "                   Method     Test MSE   Test R2 Test MAPE\n",
      "0  Multi-Layer Perceptron  9311.159974  0.831711  0.466406\n",
      "                   Method     Test MSE   Test R2 Test MAPE\n",
      "0  Multi-Layer Perceptron  7968.197288  0.876755  0.339028\n",
      "                   Method     Test MSE   Test R2 Test MAPE\n",
      "0  Multi-Layer Perceptron  8000.048747  0.875768  0.323126\n",
      "                   Method     Test MSE   Test R2 Test MAPE\n",
      "0  Multi-Layer Perceptron  8358.501007  0.864386  0.333109\n"
     ]
    }
   ],
   "source": [
    "activation_type = ['identity','logistic','tanh','relu']\n",
    "\n",
    "for i in range(0,4):\n",
    "    mlp = MLPRegressor(max_iter = 2000, activation = activation_type[i])\n",
    "    mlp.fit(X3_train,y3_train)\n",
    "    y_mlp_train_pred = mlp.predict(X3_train)\n",
    "    y_mlp_test_pred = mlp.predict(X3_test)\n",
    "    mlp_test_rmse = math.sqrt(mean_squared_error(np.exp(y3_test), np.exp(y_mlp_test_pred)))\n",
    "    mlp_test_r2 = r2_score(np.exp(y3_test), np.exp(y_mlp_test_pred))\n",
    "    mlp_test_mape = mean_absolute_percentage_error(np.exp(y3_test), np.exp(y_mlp_test_pred))\n",
    "    mlp_results = pd.DataFrame(['Multi-Layer Perceptron', mlp_test_rmse, mlp_test_r2,mlp_test_mape]).transpose()\n",
    "    mlp_results.columns = ['Method', 'Test MSE', 'Test R2','Test MAPE']\n",
    "    print(mlp_results)"
   ]
  },
  {
   "cell_type": "code",
   "execution_count": 10,
   "id": "ae221412",
   "metadata": {},
   "outputs": [
    {
     "data": {
      "text/plain": [
       "8128.1853987771465"
      ]
     },
     "execution_count": 10,
     "metadata": {},
     "output_type": "execute_result"
    }
   ],
   "source": [
    "import math\n",
    "math.sqrt(66067397.876894  )"
   ]
  },
  {
   "cell_type": "code",
   "execution_count": 11,
   "id": "58f95bc1",
   "metadata": {},
   "outputs": [
    {
     "data": {
      "text/plain": [
       "8494.608538943745"
      ]
     },
     "execution_count": 11,
     "metadata": {},
     "output_type": "execute_result"
    }
   ],
   "source": [
    "math.sqrt(72158374.229896  )"
   ]
  },
  {
   "cell_type": "code",
   "execution_count": 57,
   "id": "fbedd5a3",
   "metadata": {},
   "outputs": [],
   "source": [
    "mlp2 = MLPRegressor(max_iter = 2000, activation = 'relu')\n",
    "mlp2.fit(X3_train,y3_train)\n",
    "y2_mlp_test_pred = mlp.predict(X3_test)"
   ]
  },
  {
   "cell_type": "code",
   "execution_count": 59,
   "id": "17556b1e",
   "metadata": {},
   "outputs": [
    {
     "data": {
      "text/plain": [
       "235369    51405.0\n",
       "46540      2336.0\n",
       "284341    51595.0\n",
       "36138      7950.0\n",
       "114139     9670.0\n",
       "           ...   \n",
       "4777       4811.0\n",
       "82995      3998.0\n",
       "23401      6395.0\n",
       "193037     9284.0\n",
       "283051    69739.0\n",
       "Name: price, Length: 59138, dtype: float64"
      ]
     },
     "execution_count": 59,
     "metadata": {},
     "output_type": "execute_result"
    }
   ],
   "source": [
    "np.exp(y3_test)"
   ]
  },
  {
   "cell_type": "code",
   "execution_count": 60,
   "id": "1c62b3be",
   "metadata": {},
   "outputs": [
    {
     "data": {
      "text/plain": [
       "array([52353.92770384,  4559.39270184, 47006.62303006, ...,\n",
       "        7262.77412741,  6332.3410245 , 54175.60262123])"
      ]
     },
     "execution_count": 60,
     "metadata": {},
     "output_type": "execute_result"
    }
   ],
   "source": [
    "np.exp(y2_mlp_test_pred)"
   ]
  },
  {
   "cell_type": "code",
   "execution_count": 61,
   "id": "7b2978da",
   "metadata": {},
   "outputs": [
    {
     "data": {
      "image/png": "[encoded data removed]",
      "text/plain": [
       "<Figure size 432x288 with 1 Axes>"
      ]
     },
     "metadata": {
      "needs_background": "light"
     },
     "output_type": "display_data"
    }
   ],
   "source": [
    "import matplotlib.pyplot as plt\n",
    "x_values = np.arange(len(y2_mlp_test_pred))\n",
    "plt.scatter (x_values,np.exp(y2_mlp_test_pred))\n",
    "plt.show()"
   ]
  },
  {
   "cell_type": "code",
   "execution_count": 62,
   "id": "94a527d5",
   "metadata": {},
   "outputs": [
    {
     "data": {
      "text/plain": [
       "64588031.149816774"
      ]
     },
     "execution_count": 62,
     "metadata": {},
     "output_type": "execute_result"
    }
   ],
   "source": [
    "mean_squared_error(np.exp(y3_test), np.exp(y2_mlp_test_pred))"
   ]
  },
  {
   "cell_type": "code",
   "execution_count": 63,
   "id": "8bf9d136",
   "metadata": {},
   "outputs": [
    {
     "data": {
      "text/plain": [
       "0.3416516487410684"
      ]
     },
     "execution_count": 63,
     "metadata": {},
     "output_type": "execute_result"
    }
   ],
   "source": [
    "mean_absolute_percentage_error(np.exp(y3_test), np.exp(y2_mlp_test_pred))"
   ]
  },
  {
   "cell_type": "code",
   "execution_count": 16,
   "id": "78064efe",
   "metadata": {},
   "outputs": [
    {
     "name": "stdout",
     "output_type": "stream",
     "text": [
      "                   Method         Test MSE  Test R2 Test MAPE\n",
      "0  Multi-Layer Perceptron  53313360.826505  0.89601  0.296335\n",
      "                   Method         Test MSE  Test R2 Test MAPE\n",
      "0  Multi-Layer Perceptron  52934206.152955  0.89675  0.282791\n"
     ]
    },
    {
     "name": "stderr",
     "output_type": "stream",
     "text": [
      "C:\\Users\\drago\\anaconda3\\lib\\site-packages\\sklearn\\neural_network\\_multilayer_perceptron.py:699: UserWarning: Training interrupted by user.\n",
      "  warnings.warn(\"Training interrupted by user.\")\n"
     ]
    },
    {
     "name": "stdout",
     "output_type": "stream",
     "text": [
      "                   Method         Test MSE   Test R2 Test MAPE\n",
      "0  Multi-Layer Perceptron  56760245.856404  0.889287   0.27774\n"
     ]
    }
   ],
   "source": [
    "for i in range(1,4):\n",
    "    mlp = MLPRegressor(max_iter = 2000, activation = 'relu',hidden_layer_sizes=(100+50*i,100+50*i,100+50*i,))\n",
    "    mlp.fit(X3_train,y3_train)\n",
    "    y_mlp_test_pred = mlp.predict(X3_test)\n",
    "    mlp_test_mse = mean_squared_error(np.exp(y3_test), np.exp(y_mlp_test_pred))\n",
    "    mlp_test_r2 = r2_score(np.exp(y3_test), np.exp(y_mlp_test_pred))\n",
    "    mlp_test_mape = mean_absolute_percentage_error(np.exp(y3_test), np.exp(y_mlp_test_pred))\n",
    "    mlp_results = pd.DataFrame(['Multi-Layer Perceptron',mlp_test_mse, mlp_test_r2,mlp_test_mape]).transpose()\n",
    "    mlp_results.columns = ['Method', 'Test MSE', 'Test R2', 'Test MAPE']\n",
    "    print(mlp_results)"
   ]
  },
  {
   "cell_type": "markdown",
   "id": "8b68f143",
   "metadata": {},
   "source": [
    "                  Method         Test MSE  Test R2 Test MAPE\n",
    "0  Multi-Layer Perceptron  53313360.826505  0.89601  0.296335\n",
    "                   Method         Test MSE  Test R2 Test MAPE\n",
    "0  Multi-Layer Perceptron  52934206.152955  0.89675  0.282791"
   ]
  },
  {
   "cell_type": "code",
   "execution_count": 65,
   "id": "544a8ac5",
   "metadata": {},
   "outputs": [],
   "source": [
    "mlp = MLPRegressor(max_iter = 2000, activation = 'relu',hidden_layer_sizes=(200,200,200,))\n",
    "mlp.fit(X3_train,y3_train)\n",
    "y3_mlp_test_pred = mlp.predict(X3_test)"
   ]
  },
  {
   "cell_type": "code",
   "execution_count": null,
   "id": "f37046ec",
   "metadata": {},
   "outputs": [],
   "source": [
    "r2_score(np.exp(y3_test), np.exp(y3_mlp_test_pred))"
   ]
  },
  {
   "cell_type": "code",
   "execution_count": 66,
   "id": "f7145f32",
   "metadata": {
    "scrolled": true
   },
   "outputs": [
    {
     "data": {
      "text/plain": [
       "55831492.688444555"
      ]
     },
     "execution_count": 66,
     "metadata": {},
     "output_type": "execute_result"
    }
   ],
   "source": [
    "mean_squared_error(np.exp(y3_test), np.exp(y3_mlp_test_pred))"
   ]
  },
  {
   "cell_type": "code",
   "execution_count": 67,
   "id": "15ab0828",
   "metadata": {},
   "outputs": [
    {
     "data": {
      "text/plain": [
       "0.28821622750360726"
      ]
     },
     "execution_count": 67,
     "metadata": {},
     "output_type": "execute_result"
    }
   ],
   "source": [
    "mean_absolute_percentage_error(np.exp(y3_test), np.exp(y3_mlp_test_pred))"
   ]
  },
  {
   "cell_type": "code",
   "execution_count": null,
   "id": "f95d2ce0",
   "metadata": {},
   "outputs": [],
   "source": []
  },
  {
   "cell_type": "code",
   "execution_count": null,
   "id": "9d29deb1",
   "metadata": {},
   "outputs": [],
   "source": []
  },
  {
   "cell_type": "code",
   "execution_count": null,
   "id": "5c2de391",
   "metadata": {},
   "outputs": [],
   "source": []
  },
  {
   "cell_type": "code",
   "execution_count": null,
   "id": "6b04c044",
   "metadata": {},
   "outputs": [],
   "source": []
  },
  {
   "cell_type": "code",
   "execution_count": 24,
   "id": "d4c1f6ff",
   "metadata": {},
   "outputs": [
    {
     "ename": "KeyboardInterrupt",
     "evalue": "",
     "output_type": "error",
     "traceback": [
      "\u001b[1;31m---------------------------------------------------------------------------\u001b[0m",
      "\u001b[1;31mKeyboardInterrupt\u001b[0m                         Traceback (most recent call last)",
      "\u001b[1;32m<ipython-input-24-76cb412de48e>\u001b[0m in \u001b[0;36m<module>\u001b[1;34m\u001b[0m\n\u001b[0;32m      3\u001b[0m \u001b[1;32mfor\u001b[0m \u001b[0mi\u001b[0m \u001b[1;32min\u001b[0m \u001b[0mrange\u001b[0m\u001b[1;33m(\u001b[0m\u001b[1;36m0\u001b[0m\u001b[1;33m,\u001b[0m\u001b[1;36m2\u001b[0m\u001b[1;33m)\u001b[0m\u001b[1;33m:\u001b[0m\u001b[1;33m\u001b[0m\u001b[1;33m\u001b[0m\u001b[0m\n\u001b[0;32m      4\u001b[0m     \u001b[0mmlp\u001b[0m \u001b[1;33m=\u001b[0m \u001b[0mMLPRegressor\u001b[0m\u001b[1;33m(\u001b[0m\u001b[0mmax_iter\u001b[0m \u001b[1;33m=\u001b[0m \u001b[1;36m2000\u001b[0m\u001b[1;33m,\u001b[0m \u001b[0mactivation\u001b[0m \u001b[1;33m=\u001b[0m \u001b[1;34m'relu'\u001b[0m\u001b[1;33m,\u001b[0m\u001b[0mhidden_layer_sizes\u001b[0m\u001b[1;33m=\u001b[0m\u001b[1;33m(\u001b[0m\u001b[1;36m250\u001b[0m\u001b[1;33m,\u001b[0m\u001b[1;36m250\u001b[0m\u001b[1;33m,\u001b[0m\u001b[1;36m250\u001b[0m\u001b[1;33m,\u001b[0m\u001b[1;36m250\u001b[0m\u001b[1;33m,\u001b[0m\u001b[1;36m250\u001b[0m\u001b[1;33m,\u001b[0m\u001b[1;33m)\u001b[0m\u001b[1;33m,\u001b[0m \u001b[0msolver\u001b[0m \u001b[1;33m=\u001b[0m \u001b[0msolver_type\u001b[0m\u001b[1;33m[\u001b[0m\u001b[0mi\u001b[0m\u001b[1;33m]\u001b[0m\u001b[1;33m)\u001b[0m\u001b[1;33m\u001b[0m\u001b[1;33m\u001b[0m\u001b[0m\n\u001b[1;32m----> 5\u001b[1;33m     \u001b[0mmlp\u001b[0m\u001b[1;33m.\u001b[0m\u001b[0mfit\u001b[0m\u001b[1;33m(\u001b[0m\u001b[0mX3_train\u001b[0m\u001b[1;33m,\u001b[0m\u001b[0my3_train\u001b[0m\u001b[1;33m)\u001b[0m\u001b[1;33m\u001b[0m\u001b[1;33m\u001b[0m\u001b[0m\n\u001b[0m\u001b[0;32m      6\u001b[0m     \u001b[0my_mlp_test_pred\u001b[0m \u001b[1;33m=\u001b[0m \u001b[0mmlp\u001b[0m\u001b[1;33m.\u001b[0m\u001b[0mpredict\u001b[0m\u001b[1;33m(\u001b[0m\u001b[0mX3_test\u001b[0m\u001b[1;33m)\u001b[0m\u001b[1;33m\u001b[0m\u001b[1;33m\u001b[0m\u001b[0m\n\u001b[0;32m      7\u001b[0m     \u001b[0mmlp_test_mse\u001b[0m \u001b[1;33m=\u001b[0m \u001b[0mmean_squared_error\u001b[0m\u001b[1;33m(\u001b[0m\u001b[0mnp\u001b[0m\u001b[1;33m.\u001b[0m\u001b[0mexp\u001b[0m\u001b[1;33m(\u001b[0m\u001b[0my3_test\u001b[0m\u001b[1;33m)\u001b[0m\u001b[1;33m,\u001b[0m \u001b[0mnp\u001b[0m\u001b[1;33m.\u001b[0m\u001b[0mexp\u001b[0m\u001b[1;33m(\u001b[0m\u001b[0my_mlp_test_pred\u001b[0m\u001b[1;33m)\u001b[0m\u001b[1;33m)\u001b[0m\u001b[1;33m\u001b[0m\u001b[1;33m\u001b[0m\u001b[0m\n",
      "\u001b[1;32m~\\anaconda3\\lib\\site-packages\\sklearn\\neural_network\\_multilayer_perceptron.py\u001b[0m in \u001b[0;36mfit\u001b[1;34m(self, X, y)\u001b[0m\n\u001b[0;32m    750\u001b[0m             \u001b[0mReturns\u001b[0m \u001b[0ma\u001b[0m \u001b[0mtrained\u001b[0m \u001b[0mMLP\u001b[0m \u001b[0mmodel\u001b[0m\u001b[1;33m.\u001b[0m\u001b[1;33m\u001b[0m\u001b[1;33m\u001b[0m\u001b[0m\n\u001b[0;32m    751\u001b[0m         \"\"\"\n\u001b[1;32m--> 752\u001b[1;33m         \u001b[1;32mreturn\u001b[0m \u001b[0mself\u001b[0m\u001b[1;33m.\u001b[0m\u001b[0m_fit\u001b[0m\u001b[1;33m(\u001b[0m\u001b[0mX\u001b[0m\u001b[1;33m,\u001b[0m \u001b[0my\u001b[0m\u001b[1;33m,\u001b[0m \u001b[0mincremental\u001b[0m\u001b[1;33m=\u001b[0m\u001b[1;32mFalse\u001b[0m\u001b[1;33m)\u001b[0m\u001b[1;33m\u001b[0m\u001b[1;33m\u001b[0m\u001b[0m\n\u001b[0m\u001b[0;32m    753\u001b[0m \u001b[1;33m\u001b[0m\u001b[0m\n\u001b[0;32m    754\u001b[0m     \u001b[1;32mdef\u001b[0m \u001b[0m_check_solver\u001b[0m\u001b[1;33m(\u001b[0m\u001b[0mself\u001b[0m\u001b[1;33m)\u001b[0m\u001b[1;33m:\u001b[0m\u001b[1;33m\u001b[0m\u001b[1;33m\u001b[0m\u001b[0m\n",
      "\u001b[1;32m~\\anaconda3\\lib\\site-packages\\sklearn\\neural_network\\_multilayer_perceptron.py\u001b[0m in \u001b[0;36m_fit\u001b[1;34m(self, X, y, incremental)\u001b[0m\n\u001b[0;32m    438\u001b[0m         \u001b[1;31m# Run the LBFGS solver\u001b[0m\u001b[1;33m\u001b[0m\u001b[1;33m\u001b[0m\u001b[0m\n\u001b[0;32m    439\u001b[0m         \u001b[1;32melif\u001b[0m \u001b[0mself\u001b[0m\u001b[1;33m.\u001b[0m\u001b[0msolver\u001b[0m \u001b[1;33m==\u001b[0m \u001b[1;34m\"lbfgs\"\u001b[0m\u001b[1;33m:\u001b[0m\u001b[1;33m\u001b[0m\u001b[1;33m\u001b[0m\u001b[0m\n\u001b[1;32m--> 440\u001b[1;33m             self._fit_lbfgs(\n\u001b[0m\u001b[0;32m    441\u001b[0m                 \u001b[0mX\u001b[0m\u001b[1;33m,\u001b[0m \u001b[0my\u001b[0m\u001b[1;33m,\u001b[0m \u001b[0mactivations\u001b[0m\u001b[1;33m,\u001b[0m \u001b[0mdeltas\u001b[0m\u001b[1;33m,\u001b[0m \u001b[0mcoef_grads\u001b[0m\u001b[1;33m,\u001b[0m \u001b[0mintercept_grads\u001b[0m\u001b[1;33m,\u001b[0m \u001b[0mlayer_units\u001b[0m\u001b[1;33m\u001b[0m\u001b[1;33m\u001b[0m\u001b[0m\n\u001b[0;32m    442\u001b[0m             )\n",
      "\u001b[1;32m~\\anaconda3\\lib\\site-packages\\sklearn\\neural_network\\_multilayer_perceptron.py\u001b[0m in \u001b[0;36m_fit_lbfgs\u001b[1;34m(self, X, y, activations, deltas, coef_grads, intercept_grads, layer_units)\u001b[0m\n\u001b[0;32m    534\u001b[0m             \u001b[0miprint\u001b[0m \u001b[1;33m=\u001b[0m \u001b[1;33m-\u001b[0m\u001b[1;36m1\u001b[0m\u001b[1;33m\u001b[0m\u001b[1;33m\u001b[0m\u001b[0m\n\u001b[0;32m    535\u001b[0m \u001b[1;33m\u001b[0m\u001b[0m\n\u001b[1;32m--> 536\u001b[1;33m         opt_res = scipy.optimize.minimize(\n\u001b[0m\u001b[0;32m    537\u001b[0m             \u001b[0mself\u001b[0m\u001b[1;33m.\u001b[0m\u001b[0m_loss_grad_lbfgs\u001b[0m\u001b[1;33m,\u001b[0m\u001b[1;33m\u001b[0m\u001b[1;33m\u001b[0m\u001b[0m\n\u001b[0;32m    538\u001b[0m             \u001b[0mpacked_coef_inter\u001b[0m\u001b[1;33m,\u001b[0m\u001b[1;33m\u001b[0m\u001b[1;33m\u001b[0m\u001b[0m\n",
      "\u001b[1;32m~\\anaconda3\\lib\\site-packages\\scipy\\optimize\\_minimize.py\u001b[0m in \u001b[0;36mminimize\u001b[1;34m(fun, x0, args, method, jac, hess, hessp, bounds, constraints, tol, callback, options)\u001b[0m\n\u001b[0;32m    621\u001b[0m                                   **options)\n\u001b[0;32m    622\u001b[0m     \u001b[1;32melif\u001b[0m \u001b[0mmeth\u001b[0m \u001b[1;33m==\u001b[0m \u001b[1;34m'l-bfgs-b'\u001b[0m\u001b[1;33m:\u001b[0m\u001b[1;33m\u001b[0m\u001b[1;33m\u001b[0m\u001b[0m\n\u001b[1;32m--> 623\u001b[1;33m         return _minimize_lbfgsb(fun, x0, args, jac, bounds,\n\u001b[0m\u001b[0;32m    624\u001b[0m                                 callback=callback, **options)\n\u001b[0;32m    625\u001b[0m     \u001b[1;32melif\u001b[0m \u001b[0mmeth\u001b[0m \u001b[1;33m==\u001b[0m \u001b[1;34m'tnc'\u001b[0m\u001b[1;33m:\u001b[0m\u001b[1;33m\u001b[0m\u001b[1;33m\u001b[0m\u001b[0m\n",
      "\u001b[1;32m~\\anaconda3\\lib\\site-packages\\scipy\\optimize\\lbfgsb.py\u001b[0m in \u001b[0;36m_minimize_lbfgsb\u001b[1;34m(fun, x0, args, jac, bounds, disp, maxcor, ftol, gtol, eps, maxfun, maxiter, iprint, callback, maxls, finite_diff_rel_step, **unknown_options)\u001b[0m\n\u001b[0;32m    358\u001b[0m             \u001b[1;31m# until the completion of the current minimization iteration.\u001b[0m\u001b[1;33m\u001b[0m\u001b[1;33m\u001b[0m\u001b[0m\n\u001b[0;32m    359\u001b[0m             \u001b[1;31m# Overwrite f and g:\u001b[0m\u001b[1;33m\u001b[0m\u001b[1;33m\u001b[0m\u001b[0m\n\u001b[1;32m--> 360\u001b[1;33m             \u001b[0mf\u001b[0m\u001b[1;33m,\u001b[0m \u001b[0mg\u001b[0m \u001b[1;33m=\u001b[0m \u001b[0mfunc_and_grad\u001b[0m\u001b[1;33m(\u001b[0m\u001b[0mx\u001b[0m\u001b[1;33m)\u001b[0m\u001b[1;33m\u001b[0m\u001b[1;33m\u001b[0m\u001b[0m\n\u001b[0m\u001b[0;32m    361\u001b[0m         \u001b[1;32melif\u001b[0m \u001b[0mtask_str\u001b[0m\u001b[1;33m.\u001b[0m\u001b[0mstartswith\u001b[0m\u001b[1;33m(\u001b[0m\u001b[1;34mb'NEW_X'\u001b[0m\u001b[1;33m)\u001b[0m\u001b[1;33m:\u001b[0m\u001b[1;33m\u001b[0m\u001b[1;33m\u001b[0m\u001b[0m\n\u001b[0;32m    362\u001b[0m             \u001b[1;31m# new iteration\u001b[0m\u001b[1;33m\u001b[0m\u001b[1;33m\u001b[0m\u001b[0m\n",
      "\u001b[1;32m~\\anaconda3\\lib\\site-packages\\scipy\\optimize\\_differentiable_functions.py\u001b[0m in \u001b[0;36mfun_and_grad\u001b[1;34m(self, x)\u001b[0m\n\u001b[0;32m    265\u001b[0m         \u001b[1;32mif\u001b[0m \u001b[1;32mnot\u001b[0m \u001b[0mnp\u001b[0m\u001b[1;33m.\u001b[0m\u001b[0marray_equal\u001b[0m\u001b[1;33m(\u001b[0m\u001b[0mx\u001b[0m\u001b[1;33m,\u001b[0m \u001b[0mself\u001b[0m\u001b[1;33m.\u001b[0m\u001b[0mx\u001b[0m\u001b[1;33m)\u001b[0m\u001b[1;33m:\u001b[0m\u001b[1;33m\u001b[0m\u001b[1;33m\u001b[0m\u001b[0m\n\u001b[0;32m    266\u001b[0m             \u001b[0mself\u001b[0m\u001b[1;33m.\u001b[0m\u001b[0m_update_x_impl\u001b[0m\u001b[1;33m(\u001b[0m\u001b[0mx\u001b[0m\u001b[1;33m)\u001b[0m\u001b[1;33m\u001b[0m\u001b[1;33m\u001b[0m\u001b[0m\n\u001b[1;32m--> 267\u001b[1;33m         \u001b[0mself\u001b[0m\u001b[1;33m.\u001b[0m\u001b[0m_update_fun\u001b[0m\u001b[1;33m(\u001b[0m\u001b[1;33m)\u001b[0m\u001b[1;33m\u001b[0m\u001b[1;33m\u001b[0m\u001b[0m\n\u001b[0m\u001b[0;32m    268\u001b[0m         \u001b[0mself\u001b[0m\u001b[1;33m.\u001b[0m\u001b[0m_update_grad\u001b[0m\u001b[1;33m(\u001b[0m\u001b[1;33m)\u001b[0m\u001b[1;33m\u001b[0m\u001b[1;33m\u001b[0m\u001b[0m\n\u001b[0;32m    269\u001b[0m         \u001b[1;32mreturn\u001b[0m \u001b[0mself\u001b[0m\u001b[1;33m.\u001b[0m\u001b[0mf\u001b[0m\u001b[1;33m,\u001b[0m \u001b[0mself\u001b[0m\u001b[1;33m.\u001b[0m\u001b[0mg\u001b[0m\u001b[1;33m\u001b[0m\u001b[1;33m\u001b[0m\u001b[0m\n",
      "\u001b[1;32m~\\anaconda3\\lib\\site-packages\\scipy\\optimize\\_differentiable_functions.py\u001b[0m in \u001b[0;36m_update_fun\u001b[1;34m(self)\u001b[0m\n\u001b[0;32m    231\u001b[0m     \u001b[1;32mdef\u001b[0m \u001b[0m_update_fun\u001b[0m\u001b[1;33m(\u001b[0m\u001b[0mself\u001b[0m\u001b[1;33m)\u001b[0m\u001b[1;33m:\u001b[0m\u001b[1;33m\u001b[0m\u001b[1;33m\u001b[0m\u001b[0m\n\u001b[0;32m    232\u001b[0m         \u001b[1;32mif\u001b[0m \u001b[1;32mnot\u001b[0m \u001b[0mself\u001b[0m\u001b[1;33m.\u001b[0m\u001b[0mf_updated\u001b[0m\u001b[1;33m:\u001b[0m\u001b[1;33m\u001b[0m\u001b[1;33m\u001b[0m\u001b[0m\n\u001b[1;32m--> 233\u001b[1;33m             \u001b[0mself\u001b[0m\u001b[1;33m.\u001b[0m\u001b[0m_update_fun_impl\u001b[0m\u001b[1;33m(\u001b[0m\u001b[1;33m)\u001b[0m\u001b[1;33m\u001b[0m\u001b[1;33m\u001b[0m\u001b[0m\n\u001b[0m\u001b[0;32m    234\u001b[0m             \u001b[0mself\u001b[0m\u001b[1;33m.\u001b[0m\u001b[0mf_updated\u001b[0m \u001b[1;33m=\u001b[0m \u001b[1;32mTrue\u001b[0m\u001b[1;33m\u001b[0m\u001b[1;33m\u001b[0m\u001b[0m\n\u001b[0;32m    235\u001b[0m \u001b[1;33m\u001b[0m\u001b[0m\n",
      "\u001b[1;32m~\\anaconda3\\lib\\site-packages\\scipy\\optimize\\_differentiable_functions.py\u001b[0m in \u001b[0;36mupdate_fun\u001b[1;34m()\u001b[0m\n\u001b[0;32m    135\u001b[0m \u001b[1;33m\u001b[0m\u001b[0m\n\u001b[0;32m    136\u001b[0m         \u001b[1;32mdef\u001b[0m \u001b[0mupdate_fun\u001b[0m\u001b[1;33m(\u001b[0m\u001b[1;33m)\u001b[0m\u001b[1;33m:\u001b[0m\u001b[1;33m\u001b[0m\u001b[1;33m\u001b[0m\u001b[0m\n\u001b[1;32m--> 137\u001b[1;33m             \u001b[0mself\u001b[0m\u001b[1;33m.\u001b[0m\u001b[0mf\u001b[0m \u001b[1;33m=\u001b[0m \u001b[0mfun_wrapped\u001b[0m\u001b[1;33m(\u001b[0m\u001b[0mself\u001b[0m\u001b[1;33m.\u001b[0m\u001b[0mx\u001b[0m\u001b[1;33m)\u001b[0m\u001b[1;33m\u001b[0m\u001b[1;33m\u001b[0m\u001b[0m\n\u001b[0m\u001b[0;32m    138\u001b[0m \u001b[1;33m\u001b[0m\u001b[0m\n\u001b[0;32m    139\u001b[0m         \u001b[0mself\u001b[0m\u001b[1;33m.\u001b[0m\u001b[0m_update_fun_impl\u001b[0m \u001b[1;33m=\u001b[0m \u001b[0mupdate_fun\u001b[0m\u001b[1;33m\u001b[0m\u001b[1;33m\u001b[0m\u001b[0m\n",
      "\u001b[1;32m~\\anaconda3\\lib\\site-packages\\scipy\\optimize\\_differentiable_functions.py\u001b[0m in \u001b[0;36mfun_wrapped\u001b[1;34m(x)\u001b[0m\n\u001b[0;32m    132\u001b[0m             \u001b[1;31m# Overwriting results in undefined behaviour because\u001b[0m\u001b[1;33m\u001b[0m\u001b[1;33m\u001b[0m\u001b[0m\n\u001b[0;32m    133\u001b[0m             \u001b[1;31m# fun(self.x) will change self.x, with the two no longer linked.\u001b[0m\u001b[1;33m\u001b[0m\u001b[1;33m\u001b[0m\u001b[0m\n\u001b[1;32m--> 134\u001b[1;33m             \u001b[1;32mreturn\u001b[0m \u001b[0mfun\u001b[0m\u001b[1;33m(\u001b[0m\u001b[0mnp\u001b[0m\u001b[1;33m.\u001b[0m\u001b[0mcopy\u001b[0m\u001b[1;33m(\u001b[0m\u001b[0mx\u001b[0m\u001b[1;33m)\u001b[0m\u001b[1;33m,\u001b[0m \u001b[1;33m*\u001b[0m\u001b[0margs\u001b[0m\u001b[1;33m)\u001b[0m\u001b[1;33m\u001b[0m\u001b[1;33m\u001b[0m\u001b[0m\n\u001b[0m\u001b[0;32m    135\u001b[0m \u001b[1;33m\u001b[0m\u001b[0m\n\u001b[0;32m    136\u001b[0m         \u001b[1;32mdef\u001b[0m \u001b[0mupdate_fun\u001b[0m\u001b[1;33m(\u001b[0m\u001b[1;33m)\u001b[0m\u001b[1;33m:\u001b[0m\u001b[1;33m\u001b[0m\u001b[1;33m\u001b[0m\u001b[0m\n",
      "\u001b[1;32m~\\anaconda3\\lib\\site-packages\\scipy\\optimize\\optimize.py\u001b[0m in \u001b[0;36m__call__\u001b[1;34m(self, x, *args)\u001b[0m\n\u001b[0;32m     72\u001b[0m     \u001b[1;32mdef\u001b[0m \u001b[0m__call__\u001b[0m\u001b[1;33m(\u001b[0m\u001b[0mself\u001b[0m\u001b[1;33m,\u001b[0m \u001b[0mx\u001b[0m\u001b[1;33m,\u001b[0m \u001b[1;33m*\u001b[0m\u001b[0margs\u001b[0m\u001b[1;33m)\u001b[0m\u001b[1;33m:\u001b[0m\u001b[1;33m\u001b[0m\u001b[1;33m\u001b[0m\u001b[0m\n\u001b[0;32m     73\u001b[0m         \u001b[1;34m\"\"\" returns the the function value \"\"\"\u001b[0m\u001b[1;33m\u001b[0m\u001b[1;33m\u001b[0m\u001b[0m\n\u001b[1;32m---> 74\u001b[1;33m         \u001b[0mself\u001b[0m\u001b[1;33m.\u001b[0m\u001b[0m_compute_if_needed\u001b[0m\u001b[1;33m(\u001b[0m\u001b[0mx\u001b[0m\u001b[1;33m,\u001b[0m \u001b[1;33m*\u001b[0m\u001b[0margs\u001b[0m\u001b[1;33m)\u001b[0m\u001b[1;33m\u001b[0m\u001b[1;33m\u001b[0m\u001b[0m\n\u001b[0m\u001b[0;32m     75\u001b[0m         \u001b[1;32mreturn\u001b[0m \u001b[0mself\u001b[0m\u001b[1;33m.\u001b[0m\u001b[0m_value\u001b[0m\u001b[1;33m\u001b[0m\u001b[1;33m\u001b[0m\u001b[0m\n\u001b[0;32m     76\u001b[0m \u001b[1;33m\u001b[0m\u001b[0m\n",
      "\u001b[1;32m~\\anaconda3\\lib\\site-packages\\scipy\\optimize\\optimize.py\u001b[0m in \u001b[0;36m_compute_if_needed\u001b[1;34m(self, x, *args)\u001b[0m\n\u001b[0;32m     66\u001b[0m         \u001b[1;32mif\u001b[0m \u001b[1;32mnot\u001b[0m \u001b[0mnp\u001b[0m\u001b[1;33m.\u001b[0m\u001b[0mall\u001b[0m\u001b[1;33m(\u001b[0m\u001b[0mx\u001b[0m \u001b[1;33m==\u001b[0m \u001b[0mself\u001b[0m\u001b[1;33m.\u001b[0m\u001b[0mx\u001b[0m\u001b[1;33m)\u001b[0m \u001b[1;32mor\u001b[0m \u001b[0mself\u001b[0m\u001b[1;33m.\u001b[0m\u001b[0m_value\u001b[0m \u001b[1;32mis\u001b[0m \u001b[1;32mNone\u001b[0m \u001b[1;32mor\u001b[0m \u001b[0mself\u001b[0m\u001b[1;33m.\u001b[0m\u001b[0mjac\u001b[0m \u001b[1;32mis\u001b[0m \u001b[1;32mNone\u001b[0m\u001b[1;33m:\u001b[0m\u001b[1;33m\u001b[0m\u001b[1;33m\u001b[0m\u001b[0m\n\u001b[0;32m     67\u001b[0m             \u001b[0mself\u001b[0m\u001b[1;33m.\u001b[0m\u001b[0mx\u001b[0m \u001b[1;33m=\u001b[0m \u001b[0mnp\u001b[0m\u001b[1;33m.\u001b[0m\u001b[0masarray\u001b[0m\u001b[1;33m(\u001b[0m\u001b[0mx\u001b[0m\u001b[1;33m)\u001b[0m\u001b[1;33m.\u001b[0m\u001b[0mcopy\u001b[0m\u001b[1;33m(\u001b[0m\u001b[1;33m)\u001b[0m\u001b[1;33m\u001b[0m\u001b[1;33m\u001b[0m\u001b[0m\n\u001b[1;32m---> 68\u001b[1;33m             \u001b[0mfg\u001b[0m \u001b[1;33m=\u001b[0m \u001b[0mself\u001b[0m\u001b[1;33m.\u001b[0m\u001b[0mfun\u001b[0m\u001b[1;33m(\u001b[0m\u001b[0mx\u001b[0m\u001b[1;33m,\u001b[0m \u001b[1;33m*\u001b[0m\u001b[0margs\u001b[0m\u001b[1;33m)\u001b[0m\u001b[1;33m\u001b[0m\u001b[1;33m\u001b[0m\u001b[0m\n\u001b[0m\u001b[0;32m     69\u001b[0m             \u001b[0mself\u001b[0m\u001b[1;33m.\u001b[0m\u001b[0mjac\u001b[0m \u001b[1;33m=\u001b[0m \u001b[0mfg\u001b[0m\u001b[1;33m[\u001b[0m\u001b[1;36m1\u001b[0m\u001b[1;33m]\u001b[0m\u001b[1;33m\u001b[0m\u001b[1;33m\u001b[0m\u001b[0m\n\u001b[0;32m     70\u001b[0m             \u001b[0mself\u001b[0m\u001b[1;33m.\u001b[0m\u001b[0m_value\u001b[0m \u001b[1;33m=\u001b[0m \u001b[0mfg\u001b[0m\u001b[1;33m[\u001b[0m\u001b[1;36m0\u001b[0m\u001b[1;33m]\u001b[0m\u001b[1;33m\u001b[0m\u001b[1;33m\u001b[0m\u001b[0m\n",
      "\u001b[1;32m~\\anaconda3\\lib\\site-packages\\sklearn\\neural_network\\_multilayer_perceptron.py\u001b[0m in \u001b[0;36m_loss_grad_lbfgs\u001b[1;34m(self, packed_coef_inter, X, y, activations, deltas, coef_grads, intercept_grads)\u001b[0m\n\u001b[0;32m    232\u001b[0m         \"\"\"\n\u001b[0;32m    233\u001b[0m         \u001b[0mself\u001b[0m\u001b[1;33m.\u001b[0m\u001b[0m_unpack\u001b[0m\u001b[1;33m(\u001b[0m\u001b[0mpacked_coef_inter\u001b[0m\u001b[1;33m)\u001b[0m\u001b[1;33m\u001b[0m\u001b[1;33m\u001b[0m\u001b[0m\n\u001b[1;32m--> 234\u001b[1;33m         loss, coef_grads, intercept_grads = self._backprop(\n\u001b[0m\u001b[0;32m    235\u001b[0m             \u001b[0mX\u001b[0m\u001b[1;33m,\u001b[0m \u001b[0my\u001b[0m\u001b[1;33m,\u001b[0m \u001b[0mactivations\u001b[0m\u001b[1;33m,\u001b[0m \u001b[0mdeltas\u001b[0m\u001b[1;33m,\u001b[0m \u001b[0mcoef_grads\u001b[0m\u001b[1;33m,\u001b[0m \u001b[0mintercept_grads\u001b[0m\u001b[1;33m\u001b[0m\u001b[1;33m\u001b[0m\u001b[0m\n\u001b[0;32m    236\u001b[0m         )\n",
      "\u001b[1;32m~\\anaconda3\\lib\\site-packages\\sklearn\\neural_network\\_multilayer_perceptron.py\u001b[0m in \u001b[0;36m_backprop\u001b[1;34m(self, X, y, activations, deltas, coef_grads, intercept_grads)\u001b[0m\n\u001b[0;32m    277\u001b[0m \u001b[1;33m\u001b[0m\u001b[0m\n\u001b[0;32m    278\u001b[0m         \u001b[1;31m# Forward propagate\u001b[0m\u001b[1;33m\u001b[0m\u001b[1;33m\u001b[0m\u001b[0m\n\u001b[1;32m--> 279\u001b[1;33m         \u001b[0mactivations\u001b[0m \u001b[1;33m=\u001b[0m \u001b[0mself\u001b[0m\u001b[1;33m.\u001b[0m\u001b[0m_forward_pass\u001b[0m\u001b[1;33m(\u001b[0m\u001b[0mactivations\u001b[0m\u001b[1;33m)\u001b[0m\u001b[1;33m\u001b[0m\u001b[1;33m\u001b[0m\u001b[0m\n\u001b[0m\u001b[0;32m    280\u001b[0m \u001b[1;33m\u001b[0m\u001b[0m\n\u001b[0;32m    281\u001b[0m         \u001b[1;31m# Get loss\u001b[0m\u001b[1;33m\u001b[0m\u001b[1;33m\u001b[0m\u001b[0m\n",
      "\u001b[1;32m~\\anaconda3\\lib\\site-packages\\sklearn\\neural_network\\_multilayer_perceptron.py\u001b[0m in \u001b[0;36m_forward_pass\u001b[1;34m(self, activations)\u001b[0m\n\u001b[0;32m    133\u001b[0m             \u001b[1;31m# For the hidden layers\u001b[0m\u001b[1;33m\u001b[0m\u001b[1;33m\u001b[0m\u001b[0m\n\u001b[0;32m    134\u001b[0m             \u001b[1;32mif\u001b[0m \u001b[1;33m(\u001b[0m\u001b[0mi\u001b[0m \u001b[1;33m+\u001b[0m \u001b[1;36m1\u001b[0m\u001b[1;33m)\u001b[0m \u001b[1;33m!=\u001b[0m \u001b[1;33m(\u001b[0m\u001b[0mself\u001b[0m\u001b[1;33m.\u001b[0m\u001b[0mn_layers_\u001b[0m \u001b[1;33m-\u001b[0m \u001b[1;36m1\u001b[0m\u001b[1;33m)\u001b[0m\u001b[1;33m:\u001b[0m\u001b[1;33m\u001b[0m\u001b[1;33m\u001b[0m\u001b[0m\n\u001b[1;32m--> 135\u001b[1;33m                 \u001b[0mhidden_activation\u001b[0m\u001b[1;33m(\u001b[0m\u001b[0mactivations\u001b[0m\u001b[1;33m[\u001b[0m\u001b[0mi\u001b[0m \u001b[1;33m+\u001b[0m \u001b[1;36m1\u001b[0m\u001b[1;33m]\u001b[0m\u001b[1;33m)\u001b[0m\u001b[1;33m\u001b[0m\u001b[1;33m\u001b[0m\u001b[0m\n\u001b[0m\u001b[0;32m    136\u001b[0m \u001b[1;33m\u001b[0m\u001b[0m\n\u001b[0;32m    137\u001b[0m         \u001b[1;31m# For the last layer\u001b[0m\u001b[1;33m\u001b[0m\u001b[1;33m\u001b[0m\u001b[0m\n",
      "\u001b[1;32m~\\anaconda3\\lib\\site-packages\\sklearn\\neural_network\\_base.py\u001b[0m in \u001b[0;36minplace_relu\u001b[1;34m(X)\u001b[0m\n\u001b[0;32m     53\u001b[0m         \u001b[0mThe\u001b[0m \u001b[0minput\u001b[0m \u001b[0mdata\u001b[0m\u001b[1;33m.\u001b[0m\u001b[1;33m\u001b[0m\u001b[1;33m\u001b[0m\u001b[0m\n\u001b[0;32m     54\u001b[0m     \"\"\"\n\u001b[1;32m---> 55\u001b[1;33m     \u001b[0mnp\u001b[0m\u001b[1;33m.\u001b[0m\u001b[0mmaximum\u001b[0m\u001b[1;33m(\u001b[0m\u001b[0mX\u001b[0m\u001b[1;33m,\u001b[0m \u001b[1;36m0\u001b[0m\u001b[1;33m,\u001b[0m \u001b[0mout\u001b[0m\u001b[1;33m=\u001b[0m\u001b[0mX\u001b[0m\u001b[1;33m)\u001b[0m\u001b[1;33m\u001b[0m\u001b[1;33m\u001b[0m\u001b[0m\n\u001b[0m\u001b[0;32m     56\u001b[0m \u001b[1;33m\u001b[0m\u001b[0m\n\u001b[0;32m     57\u001b[0m \u001b[1;33m\u001b[0m\u001b[0m\n",
      "\u001b[1;31mKeyboardInterrupt\u001b[0m: "
     ]
    }
   ],
   "source": [
    "solver_type = ['lbfgs','sgd']\n",
    "\n",
    "for i in range(0,2):\n",
    "    mlp = MLPRegressor(max_iter = 2000, activation = 'relu',hidden_layer_sizes=(250,250,250,250,250,), solver = solver_type[i])\n",
    "    mlp.fit(X3_train,y3_train)\n",
    "    y_mlp_test_pred = mlp.predict(X3_test)\n",
    "    mlp_test_mse = mean_squared_error(np.exp(y3_test), np.exp(y_mlp_test_pred))\n",
    "    mlp_test_r2 = r2_score(np.exp(y3_test), np.exp(y_mlp_test_pred))\n",
    "    mlp_test_mape = mean_absolute_percentage_error(np.exp(y3_test), np.exp(y_mlp_test_pred))\n",
    "    mlp_results = pd.DataFrame(['Multi-Layer Perceptron',mlp_test_mse, mlp_test_r2,mlp_test_mape]).transpose()\n",
    "    mlp_results.columns = ['Method', 'Test MSE', 'Test R2', 'Test MAPE']\n",
    "    print(mlp_results)"
   ]
  },
  {
   "cell_type": "code",
   "execution_count": null,
   "id": "2404f560",
   "metadata": {},
   "outputs": [],
   "source": []
  },
  {
   "cell_type": "code",
   "execution_count": 6,
   "id": "00a63615",
   "metadata": {},
   "outputs": [
    {
     "name": "stdout",
     "output_type": "stream",
     "text": [
      "                   Method        Test MSE   Test R2 Test MAPE\n",
      "0  Multi-Layer Perceptron  53547765.39646  0.894389  0.279911\n",
      "                   Method         Test MSE   Test R2 Test MAPE\n",
      "0  Multi-Layer Perceptron  52957587.986392  0.895553  0.284623\n"
     ]
    }
   ],
   "source": [
    "learning_type = ['invscaling', 'adaptive']\n",
    "\n",
    "for i in range(0,2):\n",
    "    mlp = MLPRegressor(max_iter = 2000, activation = 'relu',hidden_layer_sizes=(250,250,250,250,250,), learning_rate = learning_type[i])\n",
    "    mlp.fit(X3_train,y3_train)\n",
    "    y_mlp_test_pred = mlp.predict(X3_test)\n",
    "    mlp_test_mse = mean_squared_error(np.exp(y3_test), np.exp(y_mlp_test_pred))\n",
    "    mlp_test_r2 = r2_score(np.exp(y3_test), np.exp(y_mlp_test_pred))\n",
    "    mlp_test_mape = mean_absolute_percentage_error(np.exp(y3_test), np.exp(y_mlp_test_pred))\n",
    "    mlp_results = pd.DataFrame(['Multi-Layer Perceptron',mlp_test_mse, mlp_test_r2,mlp_test_mape]).transpose()\n",
    "    mlp_results.columns = ['Method', 'Test MSE', 'Test R2', 'Test MAPE']\n",
    "    print(mlp_results)"
   ]
  },
  {
   "cell_type": "code",
   "execution_count": 17,
   "id": "4f335412",
   "metadata": {},
   "outputs": [
    {
     "name": "stdout",
     "output_type": "stream",
     "text": [
      "                   Method   Test RMSE   Test R2 Test MAPE\n",
      "0  Multi-Layer Perceptron  7401.86601  0.893652  0.293306\n"
     ]
    }
   ],
   "source": [
    "mlp4 = MLPRegressor(max_iter = 2000, activation = 'logistic',hidden_layer_sizes=(250,250,250,250,250,), learning_rate = 'invscaling')\n",
    "mlp4.fit(X3_train,y3_train)\n",
    "y4_mlp_test_pred = mlp4.predict(X3_test)\n",
    "mlp_test_rmse4 = math.sqrt(mean_squared_error(np.exp(y3_test), np.exp(y4_mlp_test_pred)))\n",
    "mlp_test_r24 = r2_score(np.exp(y3_test), np.exp(y4_mlp_test_pred))\n",
    "mlp_test_mape4 = mean_absolute_percentage_error(np.exp(y3_test), np.exp(y4_mlp_test_pred))\n",
    "mlp_results4 = pd.DataFrame(['Multi-Layer Perceptron',mlp_test_rmse4, mlp_test_r24,mlp_test_mape4]).transpose()\n",
    "mlp_results4.columns = ['Method', 'Test RMSE', 'Test R2', 'Test MAPE']\n",
    "print(mlp_results4)"
   ]
  },
  {
   "cell_type": "code",
   "execution_count": null,
   "id": "e229fab6",
   "metadata": {},
   "outputs": [],
   "source": []
  },
  {
   "cell_type": "code",
   "execution_count": 5,
   "id": "63046055",
   "metadata": {},
   "outputs": [
    {
     "name": "stdout",
     "output_type": "stream",
     "text": [
      "(236551, 9)\n",
      "(59138,)\n"
     ]
    }
   ],
   "source": [
    "from sklearn.model_selection import train_test_split\n",
    "X3_train,X3_test,y3_train,y3_test = train_test_split(X3,y3, test_size = 0.2, random_state = 5)\n",
    "print(X3_train.shape)\n",
    "print(y3_test.shape)"
   ]
  },
  {
   "cell_type": "code",
   "execution_count": 6,
   "id": "da82cb3f",
   "metadata": {},
   "outputs": [
    {
     "ename": "NameError",
     "evalue": "name 'math' is not defined",
     "output_type": "error",
     "traceback": [
      "\u001b[1;31m---------------------------------------------------------------------------\u001b[0m",
      "\u001b[1;31mNameError\u001b[0m                                 Traceback (most recent call last)",
      "\u001b[1;32m<ipython-input-6-2925cf37bddb>\u001b[0m in \u001b[0;36m<module>\u001b[1;34m\u001b[0m\n\u001b[0;32m      2\u001b[0m \u001b[0mmlp4\u001b[0m\u001b[1;33m.\u001b[0m\u001b[0mfit\u001b[0m\u001b[1;33m(\u001b[0m\u001b[0mX3_train\u001b[0m\u001b[1;33m,\u001b[0m\u001b[0my3_train\u001b[0m\u001b[1;33m)\u001b[0m\u001b[1;33m\u001b[0m\u001b[1;33m\u001b[0m\u001b[0m\n\u001b[0;32m      3\u001b[0m \u001b[0my4_mlp_test_pred\u001b[0m \u001b[1;33m=\u001b[0m \u001b[0mmlp4\u001b[0m\u001b[1;33m.\u001b[0m\u001b[0mpredict\u001b[0m\u001b[1;33m(\u001b[0m\u001b[0mX3_test\u001b[0m\u001b[1;33m)\u001b[0m\u001b[1;33m\u001b[0m\u001b[1;33m\u001b[0m\u001b[0m\n\u001b[1;32m----> 4\u001b[1;33m \u001b[0mmlp_test_rmse4\u001b[0m \u001b[1;33m=\u001b[0m \u001b[0mmath\u001b[0m\u001b[1;33m.\u001b[0m\u001b[0msqrt\u001b[0m\u001b[1;33m(\u001b[0m\u001b[0mmean_squared_error\u001b[0m\u001b[1;33m(\u001b[0m\u001b[0mnp\u001b[0m\u001b[1;33m.\u001b[0m\u001b[0mexp\u001b[0m\u001b[1;33m(\u001b[0m\u001b[0my3_test\u001b[0m\u001b[1;33m)\u001b[0m\u001b[1;33m,\u001b[0m \u001b[0mnp\u001b[0m\u001b[1;33m.\u001b[0m\u001b[0mexp\u001b[0m\u001b[1;33m(\u001b[0m\u001b[0my4_mlp_test_pred\u001b[0m\u001b[1;33m)\u001b[0m\u001b[1;33m)\u001b[0m\u001b[1;33m)\u001b[0m\u001b[1;33m\u001b[0m\u001b[1;33m\u001b[0m\u001b[0m\n\u001b[0m\u001b[0;32m      5\u001b[0m \u001b[0mmlp_test_r24\u001b[0m \u001b[1;33m=\u001b[0m \u001b[0mr2_score\u001b[0m\u001b[1;33m(\u001b[0m\u001b[0mnp\u001b[0m\u001b[1;33m.\u001b[0m\u001b[0mexp\u001b[0m\u001b[1;33m(\u001b[0m\u001b[0my3_test\u001b[0m\u001b[1;33m)\u001b[0m\u001b[1;33m,\u001b[0m \u001b[0mnp\u001b[0m\u001b[1;33m.\u001b[0m\u001b[0mexp\u001b[0m\u001b[1;33m(\u001b[0m\u001b[0my4_mlp_test_pred\u001b[0m\u001b[1;33m)\u001b[0m\u001b[1;33m)\u001b[0m\u001b[1;33m\u001b[0m\u001b[1;33m\u001b[0m\u001b[0m\n\u001b[0;32m      6\u001b[0m \u001b[0mmlp_test_mape4\u001b[0m \u001b[1;33m=\u001b[0m \u001b[0mmean_absolute_percentage_error\u001b[0m\u001b[1;33m(\u001b[0m\u001b[0mnp\u001b[0m\u001b[1;33m.\u001b[0m\u001b[0mexp\u001b[0m\u001b[1;33m(\u001b[0m\u001b[0my3_test\u001b[0m\u001b[1;33m)\u001b[0m\u001b[1;33m,\u001b[0m \u001b[0mnp\u001b[0m\u001b[1;33m.\u001b[0m\u001b[0mexp\u001b[0m\u001b[1;33m(\u001b[0m\u001b[0my4_mlp_test_pred\u001b[0m\u001b[1;33m)\u001b[0m\u001b[1;33m)\u001b[0m\u001b[1;33m\u001b[0m\u001b[1;33m\u001b[0m\u001b[0m\n",
      "\u001b[1;31mNameError\u001b[0m: name 'math' is not defined"
     ]
    }
   ],
   "source": [
    "mlp4 = MLPRegressor(max_iter = 2000, activation = 'relu',hidden_layer_sizes=(250,250,250,250,250,), learning_rate = 'invscaling')\n",
    "mlp4.fit(X3_train,y3_train)\n",
    "y4_mlp_test_pred = mlp4.predict(X3_test)\n",
    "mlp_test_rmse4 = math.sqrt(mean_squared_error(np.exp(y3_test), np.exp(y4_mlp_test_pred)))\n",
    "mlp_test_r24 = r2_score(np.exp(y3_test), np.exp(y4_mlp_test_pred))\n",
    "mlp_test_mape4 = mean_absolute_percentage_error(np.exp(y3_test), np.exp(y4_mlp_test_pred))\n",
    "mlp_results4 = pd.DataFrame(['Multi-Layer Perceptron',mlp_test_rmse4, mlp_test_r24,mlp_test_mape4]).transpose()\n",
    "mlp_results4.columns = ['Method', 'Test RMSE', 'Test R2', 'Test MAPE']\n",
    "print(mlp_results4)"
   ]
  },
  {
   "cell_type": "code",
   "execution_count": null,
   "id": "062fd5ea",
   "metadata": {},
   "outputs": [],
   "source": []
  },
  {
   "cell_type": "code",
   "execution_count": null,
   "id": "9e82ddb8",
   "metadata": {},
   "outputs": [],
   "source": []
  },
  {
   "cell_type": "code",
   "execution_count": 18,
   "id": "87ce8a91",
   "metadata": {},
   "outputs": [
    {
     "name": "stdout",
     "output_type": "stream",
     "text": [
      "                   Method    Test RMSE   Test R2 Test MAPE\n",
      "0  Multi-Layer Perceptron  7268.203807  0.897458  0.294609\n"
     ]
    }
   ],
   "source": [
    "mlp4 = MLPRegressor(max_iter = 2000, activation = 'tanh',hidden_layer_sizes=(250,250,250,250,250,), learning_rate = 'invscaling')\n",
    "mlp4.fit(X3_train,y3_train)\n",
    "y4_mlp_test_pred = mlp4.predict(X3_test)\n",
    "mlp_test_rmse4 = math.sqrt(mean_squared_error(np.exp(y3_test), np.exp(y4_mlp_test_pred)))\n",
    "mlp_test_r24 = r2_score(np.exp(y3_test), np.exp(y4_mlp_test_pred))\n",
    "mlp_test_mape4 = mean_absolute_percentage_error(np.exp(y3_test), np.exp(y4_mlp_test_pred))\n",
    "mlp_results4 = pd.DataFrame(['Multi-Layer Perceptron',mlp_test_rmse4, mlp_test_r24,mlp_test_mape4]).transpose()\n",
    "mlp_results4.columns = ['Method', 'Test RMSE', 'Test R2', 'Test MAPE']\n",
    "print(mlp_results4)"
   ]
  },
  {
   "cell_type": "code",
   "execution_count": 20,
   "id": "fc149ecd",
   "metadata": {},
   "outputs": [
    {
     "name": "stdout",
     "output_type": "stream",
     "text": [
      "                   Method    Test RMSE   Test R2 Test MAPE\n",
      "0  Multi-Layer Perceptron  8243.152233  0.868103  0.275459\n"
     ]
    }
   ],
   "source": [
    "mlp4 = MLPRegressor(max_iter = 2000, activation = 'relu',hidden_layer_sizes=(200,200,200,200,200,), learning_rate = 'invscaling')\n",
    "mlp4.fit(X3_train,y3_train)\n",
    "y4_mlp_test_pred = mlp4.predict(X3_test)\n",
    "mlp_test_rmse4 = math.sqrt(mean_squared_error(np.exp(y3_test), np.exp(y4_mlp_test_pred)))\n",
    "mlp_test_r24 = r2_score(np.exp(y3_test), np.exp(y4_mlp_test_pred))\n",
    "mlp_test_mape4 = mean_absolute_percentage_error(np.exp(y3_test), np.exp(y4_mlp_test_pred))\n",
    "mlp_results4 = pd.DataFrame(['Multi-Layer Perceptron',mlp_test_rmse4, mlp_test_r24,mlp_test_mape4]).transpose()\n",
    "mlp_results4.columns = ['Method', 'Test RMSE', 'Test R2', 'Test MAPE']\n",
    "print(mlp_results4)"
   ]
  },
  {
   "cell_type": "code",
   "execution_count": 11,
   "id": "44fe218c",
   "metadata": {},
   "outputs": [
    {
     "data": {
      "text/plain": [
       "7317.633865974711"
      ]
     },
     "execution_count": 11,
     "metadata": {},
     "output_type": "execute_result"
    }
   ],
   "source": [
    "math.sqrt(53547765.39646  )"
   ]
  },
  {
   "cell_type": "code",
   "execution_count": 12,
   "id": "9f82c2dc",
   "metadata": {},
   "outputs": [
    {
     "data": {
      "text/plain": [
       "7277.196437254665"
      ]
     },
     "execution_count": 12,
     "metadata": {},
     "output_type": "execute_result"
    }
   ],
   "source": [
    "math.sqrt(52957587.986392)"
   ]
  },
  {
   "cell_type": "code",
   "execution_count": null,
   "id": "a2af0321",
   "metadata": {},
   "outputs": [],
   "source": []
  },
  {
   "cell_type": "code",
   "execution_count": null,
   "id": "b558f606",
   "metadata": {},
   "outputs": [],
   "source": []
  },
  {
   "cell_type": "code",
   "execution_count": null,
   "id": "02c80215",
   "metadata": {},
   "outputs": [],
   "source": [
    "mlp31 = MLPRegressor(max_iter = 2000, activation = 'relu',hidden_layer_sizes=(200,200,200,200,200,))\n",
    "mlp31.fit(X3_train,y3_train)"
   ]
  },
  {
   "cell_type": "code",
   "execution_count": 11,
   "id": "baeeeaff",
   "metadata": {},
   "outputs": [],
   "source": [
    "y31_mlp_test_pred = mlp31.predict(X3_test)"
   ]
  },
  {
   "cell_type": "code",
   "execution_count": 21,
   "id": "90c537f0",
   "metadata": {},
   "outputs": [
    {
     "data": {
      "text/plain": [
       "0.8900406436051147"
      ]
     },
     "execution_count": 21,
     "metadata": {},
     "output_type": "execute_result"
    }
   ],
   "source": [
    "r2_score(np.exp(y3_test), np.exp(y31_mlp_test_pred))"
   ]
  },
  {
   "cell_type": "code",
   "execution_count": 12,
   "id": "2a64bc29",
   "metadata": {},
   "outputs": [
    {
     "data": {
      "text/plain": [
       "56194429.13494007"
      ]
     },
     "execution_count": 12,
     "metadata": {},
     "output_type": "execute_result"
    }
   ],
   "source": [
    "mean_squared_error(np.exp(y3_test), np.exp(y31_mlp_test_pred))"
   ]
  },
  {
   "cell_type": "code",
   "execution_count": 13,
   "id": "58f88b3e",
   "metadata": {},
   "outputs": [
    {
     "data": {
      "text/plain": [
       "0.2780360958805733"
      ]
     },
     "execution_count": 13,
     "metadata": {},
     "output_type": "execute_result"
    }
   ],
   "source": [
    "mean_absolute_percentage_error(np.exp(y3_test), np.exp(y31_mlp_test_pred))"
   ]
  },
  {
   "cell_type": "code",
   "execution_count": null,
   "id": "981117fb",
   "metadata": {},
   "outputs": [],
   "source": []
  },
  {
   "cell_type": "code",
   "execution_count": 14,
   "id": "cf0c1984",
   "metadata": {},
   "outputs": [],
   "source": [
    "mlp32 = MLPRegressor(max_iter = 2000, activation = 'relu',hidden_layer_sizes=(250,250,250,250,250,))\n",
    "mlp32.fit(X3_train,y3_train)\n",
    "y32_mlp_test_pred = mlp32.predict(X3_test)"
   ]
  },
  {
   "cell_type": "code",
   "execution_count": 20,
   "id": "fd2fda86",
   "metadata": {},
   "outputs": [
    {
     "data": {
      "text/plain": [
       "0.8960346283178194"
      ]
     },
     "execution_count": 20,
     "metadata": {},
     "output_type": "execute_result"
    }
   ],
   "source": [
    "r2_score(np.exp(y3_test), np.exp(y32_mlp_test_pred))"
   ]
  },
  {
   "cell_type": "code",
   "execution_count": 15,
   "id": "d4ce2bf3",
   "metadata": {},
   "outputs": [
    {
     "data": {
      "text/plain": [
       "53131219.59809644"
      ]
     },
     "execution_count": 15,
     "metadata": {},
     "output_type": "execute_result"
    }
   ],
   "source": [
    "mean_squared_error(np.exp(y3_test), np.exp(y32_mlp_test_pred))"
   ]
  },
  {
   "cell_type": "code",
   "execution_count": 16,
   "id": "428387f8",
   "metadata": {},
   "outputs": [
    {
     "data": {
      "text/plain": [
       "0.28523113309632014"
      ]
     },
     "execution_count": 16,
     "metadata": {},
     "output_type": "execute_result"
    }
   ],
   "source": [
    "mean_absolute_percentage_error(np.exp(y3_test), np.exp(y32_mlp_test_pred))"
   ]
  },
  {
   "cell_type": "code",
   "execution_count": null,
   "id": "f2302069",
   "metadata": {},
   "outputs": [],
   "source": []
  },
  {
   "cell_type": "code",
   "execution_count": 17,
   "id": "2f4b3266",
   "metadata": {},
   "outputs": [
    {
     "name": "stderr",
     "output_type": "stream",
     "text": [
      "C:\\Users\\drago\\anaconda3\\lib\\site-packages\\sklearn\\neural_network\\_multilayer_perceptron.py:549: ConvergenceWarning: lbfgs failed to converge (status=1):\n",
      "STOP: TOTAL NO. of ITERATIONS REACHED LIMIT.\n",
      "\n",
      "Increase the number of iterations (max_iter) or scale the data as shown in:\n",
      "    https://scikit-learn.org/stable/modules/preprocessing.html\n",
      "  self.n_iter_ = _check_optimize_result(\"lbfgs\", opt_res, self.max_iter)\n"
     ]
    },
    {
     "data": {
      "text/plain": [
       "0.2873045120095656"
      ]
     },
     "execution_count": 17,
     "metadata": {},
     "output_type": "execute_result"
    }
   ],
   "source": [
    "mlp34 = MLPRegressor(max_iter = 2000, activation = 'relu',hidden_layer_sizes=(250,250,250,250,250,), solver = 'lbfgs')\n",
    "mlp34.fit(X3_train,y3_train)\n",
    "y34_mlp_test_pred = mlp34.predict(X3_test)\n",
    "r2_score(np.exp(y3_test), np.exp(y34_mlp_test_pred))\n",
    "mean_squared_error(np.exp(y3_test), np.exp(y34_mlp_test_pred))\n",
    "mean_absolute_percentage_error(np.exp(y3_test), np.exp(y34_mlp_test_pred))"
   ]
  },
  {
   "cell_type": "code",
   "execution_count": 19,
   "id": "fff15aab",
   "metadata": {},
   "outputs": [
    {
     "data": {
      "text/plain": [
       "0.8922289909010466"
      ]
     },
     "execution_count": 19,
     "metadata": {},
     "output_type": "execute_result"
    }
   ],
   "source": [
    "r2_score(np.exp(y3_test), np.exp(y34_mlp_test_pred))"
   ]
  },
  {
   "cell_type": "code",
   "execution_count": 20,
   "id": "79fce752",
   "metadata": {},
   "outputs": [
    {
     "data": {
      "text/plain": [
       "55112311.084411666"
      ]
     },
     "execution_count": 20,
     "metadata": {},
     "output_type": "execute_result"
    }
   ],
   "source": [
    "mean_squared_error(np.exp(y3_test), np.exp(y34_mlp_test_pred))"
   ]
  },
  {
   "cell_type": "code",
   "execution_count": 9,
   "id": "0369ca9e",
   "metadata": {},
   "outputs": [
    {
     "data": {
      "text/plain": [
       "7423.766637254411"
      ]
     },
     "execution_count": 9,
     "metadata": {},
     "output_type": "execute_result"
    }
   ],
   "source": [
    "import math\n",
    "math.sqrt(55112311.084411666)"
   ]
  },
  {
   "cell_type": "code",
   "execution_count": 21,
   "id": "098d1537",
   "metadata": {},
   "outputs": [
    {
     "data": {
      "text/plain": [
       "0.2873045120095656"
      ]
     },
     "execution_count": 21,
     "metadata": {},
     "output_type": "execute_result"
    }
   ],
   "source": [
    "\n",
    "mean_absolute_percentage_error(np.exp(y3_test), np.exp(y34_mlp_test_pred))"
   ]
  },
  {
   "cell_type": "code",
   "execution_count": null,
   "id": "6e16b2cb",
   "metadata": {},
   "outputs": [],
   "source": []
  },
  {
   "cell_type": "code",
   "execution_count": 13,
   "id": "c8d3cf04",
   "metadata": {},
   "outputs": [
    {
     "data": {
      "text/plain": [
       "0.31190989668315017"
      ]
     },
     "execution_count": 13,
     "metadata": {},
     "output_type": "execute_result"
    }
   ],
   "source": [
    "mlp35 = MLPRegressor(max_iter = 2000, activation = 'relu',hidden_layer_sizes=(250,250,250,250,250,), solver = 'sgd')\n",
    "mlp35.fit(X3_train,y3_train)\n",
    "y35_mlp_test_pred = mlp35.predict(X3_test)\n",
    "r2_score(np.exp(y3_test), np.exp(y35_mlp_test_pred))\n",
    "mean_squared_error(np.exp(y3_test), np.exp(y35_mlp_test_pred))\n",
    "mean_absolute_percentage_error(np.exp(y3_test), np.exp(y35_mlp_test_pred))"
   ]
  },
  {
   "cell_type": "code",
   "execution_count": 14,
   "id": "7ffdce66",
   "metadata": {},
   "outputs": [
    {
     "data": {
      "text/plain": [
       "0.8871069977623862"
      ]
     },
     "execution_count": 14,
     "metadata": {},
     "output_type": "execute_result"
    }
   ],
   "source": [
    "r2_score(np.exp(y3_test), np.exp(y35_mlp_test_pred))"
   ]
  },
  {
   "cell_type": "code",
   "execution_count": 15,
   "id": "0cc1283b",
   "metadata": {},
   "outputs": [
    {
     "data": {
      "text/plain": [
       "57731613.637020096"
      ]
     },
     "execution_count": 15,
     "metadata": {},
     "output_type": "execute_result"
    }
   ],
   "source": [
    "mean_squared_error(np.exp(y3_test), np.exp(y35_mlp_test_pred))"
   ]
  },
  {
   "cell_type": "code",
   "execution_count": 10,
   "id": "b62c5ac1",
   "metadata": {},
   "outputs": [
    {
     "data": {
      "text/plain": [
       "7598.132246612986"
      ]
     },
     "execution_count": 10,
     "metadata": {},
     "output_type": "execute_result"
    }
   ],
   "source": [
    "math.sqrt(57731613.637020096)"
   ]
  },
  {
   "cell_type": "code",
   "execution_count": 16,
   "id": "15d31a3f",
   "metadata": {},
   "outputs": [
    {
     "data": {
      "text/plain": [
       "0.31190989668315017"
      ]
     },
     "execution_count": 16,
     "metadata": {},
     "output_type": "execute_result"
    }
   ],
   "source": [
    "mean_absolute_percentage_error(np.exp(y3_test), np.exp(y35_mlp_test_pred))"
   ]
  },
  {
   "cell_type": "code",
   "execution_count": null,
   "id": "926e1af0",
   "metadata": {},
   "outputs": [],
   "source": []
  },
  {
   "cell_type": "code",
   "execution_count": 17,
   "id": "c3368480",
   "metadata": {},
   "outputs": [
    {
     "name": "stderr",
     "output_type": "stream",
     "text": [
      "C:\\Users\\drago\\anaconda3\\Lib\\site-packages\\sklearn\\neural_network\\_multilayer_perceptron.py:698: UserWarning: Training interrupted by user.\n",
      "  warnings.warn(\"Training interrupted by user.\")\n"
     ]
    }
   ],
   "source": [
    "mlp33 = MLPRegressor(max_iter = 2500, activation = 'relu',hidden_layer_sizes=(250,250,250,250,250,))\n",
    "mlp33.fit(X3_train,y3_train)\n",
    "y33_mlp_test_pred = mlp33.predict(X3_test)"
   ]
  },
  {
   "cell_type": "code",
   "execution_count": null,
   "id": "b5695f87",
   "metadata": {},
   "outputs": [],
   "source": [
    "r2_score(np.exp(y3_test), np.exp(y33_mlp_test_pred))"
   ]
  },
  {
   "cell_type": "code",
   "execution_count": 18,
   "id": "3b3292fe",
   "metadata": {},
   "outputs": [
    {
     "data": {
      "text/plain": [
       "66854890.08997579"
      ]
     },
     "execution_count": 18,
     "metadata": {},
     "output_type": "execute_result"
    }
   ],
   "source": [
    "mean_squared_error(np.exp(y3_test), np.exp(y33_mlp_test_pred))"
   ]
  },
  {
   "cell_type": "code",
   "execution_count": 19,
   "id": "76863e71",
   "metadata": {},
   "outputs": [
    {
     "data": {
      "text/plain": [
       "0.3272276962744363"
      ]
     },
     "execution_count": 19,
     "metadata": {},
     "output_type": "execute_result"
    }
   ],
   "source": [
    "mean_absolute_percentage_error(np.exp(y3_test), np.exp(y33_mlp_test_pred))"
   ]
  },
  {
   "cell_type": "code",
   "execution_count": null,
   "id": "fdd41072",
   "metadata": {},
   "outputs": [],
   "source": []
  },
  {
   "cell_type": "code",
   "execution_count": 9,
   "id": "37c392b0",
   "metadata": {},
   "outputs": [
    {
     "name": "stderr",
     "output_type": "stream",
     "text": [
      "C:\\Users\\drago\\anaconda3\\lib\\site-packages\\sklearn\\neural_network\\_multilayer_perceptron.py:699: UserWarning: Training interrupted by user.\n",
      "  warnings.warn(\"Training interrupted by user.\")\n"
     ]
    }
   ],
   "source": [
    "mlp34 = MLPRegressor(max_iter = 100, activation = 'relu',hidden_layer_sizes=(250,250,250,250,250,))\n",
    "mlp34.fit(X3_train,y3_train)\n",
    "y34_mlp_test_pred = mlp34.predict(X3_test)"
   ]
  },
  {
   "cell_type": "code",
   "execution_count": 10,
   "id": "64fcada3",
   "metadata": {},
   "outputs": [
    {
     "data": {
      "text/plain": [
       "0.8563625690764707"
      ]
     },
     "execution_count": 10,
     "metadata": {},
     "output_type": "execute_result"
    }
   ],
   "source": [
    "r2_score(np.exp(y3_test), np.exp(y34_mlp_test_pred))"
   ]
  },
  {
   "cell_type": "code",
   "execution_count": 11,
   "id": "1d3ef82e",
   "metadata": {},
   "outputs": [
    {
     "data": {
      "text/plain": [
       "73826998.45122136"
      ]
     },
     "execution_count": 11,
     "metadata": {},
     "output_type": "execute_result"
    }
   ],
   "source": [
    "mean_squared_error(np.exp(y3_test), np.exp(y34_mlp_test_pred))"
   ]
  },
  {
   "cell_type": "code",
   "execution_count": 12,
   "id": "82f929bf",
   "metadata": {},
   "outputs": [
    {
     "data": {
      "text/plain": [
       "0.2826448069137469"
      ]
     },
     "execution_count": 12,
     "metadata": {},
     "output_type": "execute_result"
    }
   ],
   "source": [
    "mean_absolute_percentage_error(np.exp(y3_test), np.exp(y34_mlp_test_pred))"
   ]
  },
  {
   "cell_type": "code",
   "execution_count": null,
   "id": "2b8a33eb",
   "metadata": {},
   "outputs": [],
   "source": []
  },
  {
   "cell_type": "code",
   "execution_count": null,
   "id": "4ff05665",
   "metadata": {},
   "outputs": [],
   "source": []
  },
  {
   "cell_type": "code",
   "execution_count": 50,
   "id": "2bb01ad4",
   "metadata": {},
   "outputs": [],
   "source": [
    "import math"
   ]
  },
  {
   "cell_type": "code",
   "execution_count": 52,
   "id": "d072b253",
   "metadata": {},
   "outputs": [
    {
     "data": {
      "text/plain": [
       "-0.6503656843282907"
      ]
     },
     "execution_count": 52,
     "metadata": {},
     "output_type": "execute_result"
    }
   ],
   "source": [
    "(5953.0-df_new.price.mean())/math.sqrt(512179149.04947245)"
   ]
  },
  {
   "cell_type": "code",
   "execution_count": 41,
   "id": "4c423fb2",
   "metadata": {},
   "outputs": [
    {
     "data": {
      "text/html": [
       "<div>\n",
       "<style scoped>\n",
       "    .dataframe tbody tr th:only-of-type {\n",
       "        vertical-align: middle;\n",
       "    }\n",
       "\n",
       "    .dataframe tbody tr th {\n",
       "        vertical-align: top;\n",
       "    }\n",
       "\n",
       "    .dataframe thead th {\n",
       "        text-align: right;\n",
       "    }\n",
       "</style>\n",
       "<table border=\"1\" class=\"dataframe\">\n",
       "  <thead>\n",
       "    <tr style=\"text-align: right;\">\n",
       "      <th></th>\n",
       "      <th>airline</th>\n",
       "      <th>source_city</th>\n",
       "      <th>departure_time</th>\n",
       "      <th>stops</th>\n",
       "      <th>arrival_time</th>\n",
       "      <th>destination_city</th>\n",
       "      <th>class</th>\n",
       "      <th>days_left_binned</th>\n",
       "      <th>duration_sqrt</th>\n",
       "      <th>price</th>\n",
       "    </tr>\n",
       "  </thead>\n",
       "  <tbody>\n",
       "    <tr>\n",
       "      <th>0</th>\n",
       "      <td>-1.368800</td>\n",
       "      <td>-1.732372</td>\n",
       "      <td>0.198274</td>\n",
       "      <td>-2.491100</td>\n",
       "      <td>0.236474</td>\n",
       "      <td>0.370940</td>\n",
       "      <td>-0.674351</td>\n",
       "      <td>2.375914</td>\n",
       "      <td>-1.742522</td>\n",
       "      <td>5953.0</td>\n",
       "    </tr>\n",
       "    <tr>\n",
       "      <th>1</th>\n",
       "      <td>-1.368800</td>\n",
       "      <td>-1.732372</td>\n",
       "      <td>-0.298600</td>\n",
       "      <td>-2.491100</td>\n",
       "      <td>0.445839</td>\n",
       "      <td>0.370940</td>\n",
       "      <td>-0.674351</td>\n",
       "      <td>2.375914</td>\n",
       "      <td>-1.691940</td>\n",
       "      <td>5953.0</td>\n",
       "    </tr>\n",
       "    <tr>\n",
       "      <th>2</th>\n",
       "      <td>-1.562898</td>\n",
       "      <td>-1.732372</td>\n",
       "      <td>-0.298600</td>\n",
       "      <td>-2.491100</td>\n",
       "      <td>-2.002790</td>\n",
       "      <td>0.370940</td>\n",
       "      <td>-0.674351</td>\n",
       "      <td>2.375914</td>\n",
       "      <td>-1.742522</td>\n",
       "      <td>5956.0</td>\n",
       "    </tr>\n",
       "    <tr>\n",
       "      <th>3</th>\n",
       "      <td>0.885018</td>\n",
       "      <td>-1.732372</td>\n",
       "      <td>0.469739</td>\n",
       "      <td>-2.491100</td>\n",
       "      <td>-0.820969</td>\n",
       "      <td>0.370940</td>\n",
       "      <td>-0.674351</td>\n",
       "      <td>2.375914</td>\n",
       "      <td>-1.717006</td>\n",
       "      <td>5955.0</td>\n",
       "    </tr>\n",
       "    <tr>\n",
       "      <th>4</th>\n",
       "      <td>0.885018</td>\n",
       "      <td>-1.732372</td>\n",
       "      <td>0.469739</td>\n",
       "      <td>-2.491100</td>\n",
       "      <td>0.445839</td>\n",
       "      <td>0.370940</td>\n",
       "      <td>-0.674351</td>\n",
       "      <td>2.375914</td>\n",
       "      <td>-1.691940</td>\n",
       "      <td>5955.0</td>\n",
       "    </tr>\n",
       "    <tr>\n",
       "      <th>...</th>\n",
       "      <td>...</td>\n",
       "      <td>...</td>\n",
       "      <td>...</td>\n",
       "      <td>...</td>\n",
       "      <td>...</td>\n",
       "      <td>...</td>\n",
       "      <td>...</td>\n",
       "      <td>...</td>\n",
       "      <td>...</td>\n",
       "      <td>...</td>\n",
       "    </tr>\n",
       "    <tr>\n",
       "      <th>295684</th>\n",
       "      <td>0.885018</td>\n",
       "      <td>1.074924</td>\n",
       "      <td>0.469739</td>\n",
       "      <td>0.433789</td>\n",
       "      <td>0.753675</td>\n",
       "      <td>-0.305768</td>\n",
       "      <td>1.482907</td>\n",
       "      <td>-0.743546</td>\n",
       "      <td>-0.128743</td>\n",
       "      <td>55377.0</td>\n",
       "    </tr>\n",
       "    <tr>\n",
       "      <th>295685</th>\n",
       "      <td>0.885018</td>\n",
       "      <td>1.074924</td>\n",
       "      <td>-1.671408</td>\n",
       "      <td>0.433789</td>\n",
       "      <td>0.236474</td>\n",
       "      <td>-0.305768</td>\n",
       "      <td>1.482907</td>\n",
       "      <td>-0.743546</td>\n",
       "      <td>-0.078388</td>\n",
       "      <td>55377.0</td>\n",
       "    </tr>\n",
       "    <tr>\n",
       "      <th>295686</th>\n",
       "      <td>0.885018</td>\n",
       "      <td>1.074924</td>\n",
       "      <td>-0.298600</td>\n",
       "      <td>0.433789</td>\n",
       "      <td>0.236474</td>\n",
       "      <td>-0.305768</td>\n",
       "      <td>1.482907</td>\n",
       "      <td>-0.743546</td>\n",
       "      <td>0.387089</td>\n",
       "      <td>55377.0</td>\n",
       "    </tr>\n",
       "    <tr>\n",
       "      <th>295687</th>\n",
       "      <td>0.885018</td>\n",
       "      <td>1.074924</td>\n",
       "      <td>-0.298600</td>\n",
       "      <td>0.433789</td>\n",
       "      <td>0.753675</td>\n",
       "      <td>-0.305768</td>\n",
       "      <td>1.482907</td>\n",
       "      <td>-0.743546</td>\n",
       "      <td>-0.140713</td>\n",
       "      <td>55377.0</td>\n",
       "    </tr>\n",
       "    <tr>\n",
       "      <th>295688</th>\n",
       "      <td>0.885018</td>\n",
       "      <td>1.074924</td>\n",
       "      <td>0.469739</td>\n",
       "      <td>0.433789</td>\n",
       "      <td>0.753675</td>\n",
       "      <td>-0.305768</td>\n",
       "      <td>1.482907</td>\n",
       "      <td>-0.743546</td>\n",
       "      <td>-0.128743</td>\n",
       "      <td>55377.0</td>\n",
       "    </tr>\n",
       "  </tbody>\n",
       "</table>\n",
       "<p>295689 rows × 10 columns</p>\n",
       "</div>"
      ],
      "text/plain": [
       "         airline  source_city  departure_time     stops  arrival_time  \\\n",
       "0      -1.368800    -1.732372        0.198274 -2.491100      0.236474   \n",
       "1      -1.368800    -1.732372       -0.298600 -2.491100      0.445839   \n",
       "2      -1.562898    -1.732372       -0.298600 -2.491100     -2.002790   \n",
       "3       0.885018    -1.732372        0.469739 -2.491100     -0.820969   \n",
       "4       0.885018    -1.732372        0.469739 -2.491100      0.445839   \n",
       "...          ...          ...             ...       ...           ...   \n",
       "295684  0.885018     1.074924        0.469739  0.433789      0.753675   \n",
       "295685  0.885018     1.074924       -1.671408  0.433789      0.236474   \n",
       "295686  0.885018     1.074924       -0.298600  0.433789      0.236474   \n",
       "295687  0.885018     1.074924       -0.298600  0.433789      0.753675   \n",
       "295688  0.885018     1.074924        0.469739  0.433789      0.753675   \n",
       "\n",
       "        destination_city     class  days_left_binned  duration_sqrt    price  \n",
       "0               0.370940 -0.674351          2.375914      -1.742522   5953.0  \n",
       "1               0.370940 -0.674351          2.375914      -1.691940   5953.0  \n",
       "2               0.370940 -0.674351          2.375914      -1.742522   5956.0  \n",
       "3               0.370940 -0.674351          2.375914      -1.717006   5955.0  \n",
       "4               0.370940 -0.674351          2.375914      -1.691940   5955.0  \n",
       "...                  ...       ...               ...            ...      ...  \n",
       "295684         -0.305768  1.482907         -0.743546      -0.128743  55377.0  \n",
       "295685         -0.305768  1.482907         -0.743546      -0.078388  55377.0  \n",
       "295686         -0.305768  1.482907         -0.743546       0.387089  55377.0  \n",
       "295687         -0.305768  1.482907         -0.743546      -0.140713  55377.0  \n",
       "295688         -0.305768  1.482907         -0.743546      -0.128743  55377.0  \n",
       "\n",
       "[295689 rows x 10 columns]"
      ]
     },
     "execution_count": 41,
     "metadata": {},
     "output_type": "execute_result"
    }
   ],
   "source": [
    "df_new"
   ]
  },
  {
   "cell_type": "code",
   "execution_count": 16,
   "id": "ab86bcbc",
   "metadata": {},
   "outputs": [],
   "source": [
    "from sklearn.preprocessing import StandardScaler\n",
    "X4 = df_new1.drop('price', axis = 1)\n",
    "df_new1['price'] = StandardScaler().fit_transform(df_new1[['price']])\n",
    "y4 = df_new1['price']"
   ]
  },
  {
   "cell_type": "code",
   "execution_count": 17,
   "id": "7b63aafd",
   "metadata": {},
   "outputs": [
    {
     "data": {
      "text/plain": [
       "0        -0.650367\n",
       "1        -0.650367\n",
       "2        -0.650234\n",
       "3        -0.650278\n",
       "4        -0.650278\n",
       "            ...   \n",
       "295684    1.533508\n",
       "295685    1.533508\n",
       "295686    1.533508\n",
       "295687    1.533508\n",
       "295688    1.533508\n",
       "Name: price, Length: 295689, dtype: float64"
      ]
     },
     "execution_count": 17,
     "metadata": {},
     "output_type": "execute_result"
    }
   ],
   "source": [
    "df_new1['price']"
   ]
  },
  {
   "cell_type": "code",
   "execution_count": 18,
   "id": "a31d5530",
   "metadata": {},
   "outputs": [
    {
     "data": {
      "text/plain": [
       "0        -0.650367\n",
       "1        -0.650367\n",
       "2        -0.650234\n",
       "3        -0.650278\n",
       "4        -0.650278\n",
       "            ...   \n",
       "295684    1.533508\n",
       "295685    1.533508\n",
       "295686    1.533508\n",
       "295687    1.533508\n",
       "295688    1.533508\n",
       "Name: price, Length: 295689, dtype: float64"
      ]
     },
     "execution_count": 18,
     "metadata": {},
     "output_type": "execute_result"
    }
   ],
   "source": [
    "y4"
   ]
  },
  {
   "cell_type": "code",
   "execution_count": 19,
   "id": "93c2e708",
   "metadata": {},
   "outputs": [],
   "source": [
    "from sklearn.model_selection import train_test_split\n",
    "X4_train,X4_test,y4_train,y4_test = train_test_split(X4,y4, test_size = 0.2)"
   ]
  },
  {
   "cell_type": "code",
   "execution_count": 20,
   "id": "6005a9b2",
   "metadata": {},
   "outputs": [
    {
     "name": "stderr",
     "output_type": "stream",
     "text": [
      "C:\\Users\\drago\\anaconda3\\lib\\site-packages\\sklearn\\neural_network\\_multilayer_perceptron.py:699: UserWarning: Training interrupted by user.\n",
      "  warnings.warn(\"Training interrupted by user.\")\n"
     ]
    }
   ],
   "source": [
    "from sklearn.metrics import mean_squared_error, r2_score,mean_absolute_percentage_error\n",
    "from sklearn.neural_network import MLPRegressor\n",
    "mlp = MLPRegressor(max_iter = 1000, activation = 'relu')\n",
    "mlp.fit(X_train,y_train)\n",
    "y_mlp_test_pred = mlp.predict(X_test)\n",
    "mlp_test_mse = mean_squared_error(y_test, y_mlp_test_pred)\n",
    "mlp_test_r2 = r2_score(y_test, y_mlp_test_pred)\n",
    "mlp_test_mape = mean_absolute_percentage_error(y_test, y_mlp_test_pred)\n",
    "mlp_results = pd.DataFrame(['Multi-Layer Perceptron',mlp_test_mse, mlp_test_r2,mlp_test_mape]).transpose()\n",
    "mlp_results.columns = ['Method', 'Test MSE', 'Test R2', 'Test MAPE']\n",
    "print(mlp_results)\n",
    "\n",
    "\n",
    "mlp = MLPRegressor(max_iter = 2000, activation = 'relu',hidden_layer_sizes=(200,200,200,))\n",
    "mlp.fit(X4_train,y4_train)\n",
    "y4_mlp_test_pred = mlp.predict(X4_test)"
   ]
  },
  {
   "cell_type": "code",
   "execution_count": 22,
   "id": "cbcce04f",
   "metadata": {},
   "outputs": [
    {
     "ename": "NameError",
     "evalue": "name 'inverse_transform' is not defined",
     "output_type": "error",
     "traceback": [
      "\u001b[1;31m---------------------------------------------------------------------------\u001b[0m",
      "\u001b[1;31mNameError\u001b[0m                                 Traceback (most recent call last)",
      "\u001b[1;32m<ipython-input-22-b76cee237c6c>\u001b[0m in \u001b[0;36m<module>\u001b[1;34m\u001b[0m\n\u001b[1;32m----> 1\u001b[1;33m \u001b[0minverse_transform\u001b[0m\u001b[1;33m(\u001b[0m\u001b[0my4_test\u001b[0m\u001b[1;33m)\u001b[0m\u001b[1;33m\u001b[0m\u001b[1;33m\u001b[0m\u001b[0m\n\u001b[0m",
      "\u001b[1;31mNameError\u001b[0m: name 'inverse_transform' is not defined"
     ]
    }
   ],
   "source": [
    "inverse_transform(y4_test)"
   ]
  },
  {
   "cell_type": "code",
   "execution_count": null,
   "id": "caa5c48c",
   "metadata": {},
   "outputs": [],
   "source": [
    "mlp4 = MLPRegressor(max_iter = 1000, activation = 'relu')\n",
    "mlp4.fit(X4_train,y4_train)\n",
    "y4_mlp_test_pred = mlp.predict(X4_test)\n",
    "mlp_test_mse = mean_squared_error(y_test, y_mlp_test_pred)\n",
    "mlp_test_r2 = r2_score(y_test, y_mlp_test_pred)\n",
    "mlp_test_mape = mean_absolute_percentage_error(y_test, y_mlp_test_pred)"
   ]
  },
  {
   "cell_type": "code",
   "execution_count": 30,
   "id": "cb3de23f",
   "metadata": {},
   "outputs": [
    {
     "data": {
      "text/plain": [
       "array([[-0.45749263],\n",
       "       [-0.36001717],\n",
       "       [-0.84522933],\n",
       "       ...,\n",
       "       [-0.83855717],\n",
       "       [ 1.78099641],\n",
       "       [-0.74757713]])"
      ]
     },
     "execution_count": 30,
     "metadata": {},
     "output_type": "execute_result"
    }
   ],
   "source": [
    "y4_train.values.reshape(-1, 1)"
   ]
  },
  {
   "cell_type": "code",
   "execution_count": 31,
   "id": "c4d29661",
   "metadata": {},
   "outputs": [],
   "source": [
    "scalery = StandardScaler().fit(y4_train.values.reshape(-1, 1))"
   ]
  },
  {
   "cell_type": "code",
   "execution_count": 57,
   "id": "cfcf413d",
   "metadata": {},
   "outputs": [
    {
     "data": {
      "text/plain": [
       "-0.6503656843282907"
      ]
     },
     "execution_count": 57,
     "metadata": {},
     "output_type": "execute_result"
    }
   ],
   "source": [
    "(5953.0-df_new.price.mean())/math.sqrt(512179149.04947245)"
   ]
  },
  {
   "cell_type": "code",
   "execution_count": 58,
   "id": "87e6594f",
   "metadata": {},
   "outputs": [
    {
     "data": {
      "text/plain": [
       "82250      2899.969949\n",
       "37809      4978.973464\n",
       "53014      5101.973672\n",
       "147137    13523.987914\n",
       "74089      3281.970595\n",
       "              ...     \n",
       "152502    10017.981985\n",
       "163632     4265.972259\n",
       "262265    64831.074672\n",
       "149890     8306.979092\n",
       "82225      1889.968241\n",
       "Name: price, Length: 59138, dtype: float64"
      ]
     },
     "execution_count": 58,
     "metadata": {},
     "output_type": "execute_result"
    }
   ],
   "source": [
    "(y4_test*math.sqrt(512179149.04947245))+df_new.price.mean()"
   ]
  },
  {
   "cell_type": "code",
   "execution_count": 63,
   "id": "0208e4c7",
   "metadata": {},
   "outputs": [
    {
     "data": {
      "text/plain": [
       "array([ 4710.94033348,  7154.10833196,  9081.87527811, ...,\n",
       "       62170.07075849,  5318.8763995 ,  5522.90186507])"
      ]
     },
     "execution_count": 63,
     "metadata": {},
     "output_type": "execute_result"
    }
   ],
   "source": [
    "y4_mlp_test_pred*math.sqrt(512179149.04947245)+df_new.price.mean()"
   ]
  },
  {
   "cell_type": "code",
   "execution_count": 64,
   "id": "8a5f29c1",
   "metadata": {},
   "outputs": [
    {
     "data": {
      "text/plain": [
       "51627449.37230832"
      ]
     },
     "execution_count": 64,
     "metadata": {},
     "output_type": "execute_result"
    }
   ],
   "source": [
    "mean_squared_error((y4_test*math.sqrt(512179149.04947245))+df_new.price.mean(), y4_mlp_test_pred*math.sqrt(512179149.04947245)+df_new.price.mean())"
   ]
  },
  {
   "cell_type": "code",
   "execution_count": 65,
   "id": "77230966",
   "metadata": {},
   "outputs": [
    {
     "data": {
      "text/plain": [
       "0.3562995490148447"
      ]
     },
     "execution_count": 65,
     "metadata": {},
     "output_type": "execute_result"
    }
   ],
   "source": [
    "mean_absolute_percentage_error((y4_test*math.sqrt(512179149.04947245))+df_new.price.mean(), y4_mlp_test_pred*math.sqrt(512179149.04947245)+df_new.price.mean())"
   ]
  },
  {
   "cell_type": "code",
   "execution_count": null,
   "id": "efa2ae98",
   "metadata": {},
   "outputs": [],
   "source": [
    "### log transformation better, despite much faster training speed"
   ]
  },
  {
   "cell_type": "code",
   "execution_count": 19,
   "id": "83c8e824",
   "metadata": {},
   "outputs": [],
   "source": [
    "##seems like 1500 iterations is the best"
   ]
  },
  {
   "cell_type": "code",
   "execution_count": 34,
   "id": "d40776ec",
   "metadata": {},
   "outputs": [
    {
     "name": "stdout",
     "output_type": "stream",
     "text": [
      "                   Method Test MSE   Test R2 Test MAPE\n",
      "0  Multi-Layer Perceptron  4.47306 -2.603898  0.198911\n",
      "                   Method Test MSE   Test R2 Test MAPE\n",
      "0  Multi-Layer Perceptron  4.47306 -2.603898  0.198911\n",
      "                   Method Test MSE   Test R2 Test MAPE\n",
      "0  Multi-Layer Perceptron  4.47306 -2.603898  0.198911\n",
      "                   Method Test MSE   Test R2 Test MAPE\n",
      "0  Multi-Layer Perceptron  4.47306 -2.603898  0.198911\n"
     ]
    }
   ],
   "source": [
    "activation_type = ['identity','logistic','tanh','relu']\n",
    "\n",
    "for i in range(0,4):\n",
    "    mlp = MLPRegressor(max_iter = 2000, activation = activation_type[i])\n",
    "    mlp.fit(X3_train,y3_train)\n",
    "    y_mlp_train_pred = mlp.predict(X3_train)\n",
    "    y_mlp_test_pred = mlp.predict(X3_test)\n",
    "    mlp_test_mse1 = mean_squared_error(y3_test, y3_mlp_test_pred)\n",
    "    mlp_test_r21 = r2_score(y3_test, y3_mlp_test_pred)\n",
    "    mlp_test_mape1 = mean_absolute_percentage_error(y3_test, y3_mlp_test_pred)\n",
    "    mlp_results1 = pd.DataFrame(['Multi-Layer Perceptron', mlp_test_mse1, mlp_test_r21,mlp_test_mape1]).transpose()\n",
    "    mlp_results1.columns = ['Method', 'Test MSE', 'Test R2','Test MAPE']\n",
    "    print(mlp_results)"
   ]
  },
  {
   "cell_type": "code",
   "execution_count": 25,
   "id": "cc2980e5",
   "metadata": {},
   "outputs": [
    {
     "name": "stdout",
     "output_type": "stream",
     "text": [
      "                   Method   Test MSE   Test R2 Test MAPE\n",
      "0  Multi-Layer Perceptron  29.293148 -22.69086  0.506795\n"
     ]
    }
   ],
   "source": [
    "mlp = MLPRegressor(max_iter = 2000, activation = 'identity')\n",
    "mlp.fit(X3_train,y3_train)\n",
    "y3_mlp_test_pred = mlp.predict(X3_test)\n",
    "mlp_test_mse = mean_squared_error(y3_test, y3_mlp_test_pred)\n",
    "mlp_test_r2 = r2_score(y3_test, y3_mlp_test_pred)\n",
    "mlp_test_mape = mean_absolute_percentage_error(y3_test, y3_mlp_test_pred)\n",
    "mlp_results = pd.DataFrame(['Multi-Layer Perceptron',mlp_test_mse, mlp_test_r2,mlp_test_mape]).transpose()\n",
    "mlp_results.columns = ['Method', 'Test MSE', 'Test R2', 'Test MAPE']\n",
    "print(mlp_results)"
   ]
  },
  {
   "cell_type": "code",
   "execution_count": null,
   "id": "f96760df",
   "metadata": {},
   "outputs": [],
   "source": []
  },
  {
   "cell_type": "code",
   "execution_count": null,
   "id": "36753235",
   "metadata": {},
   "outputs": [],
   "source": []
  },
  {
   "cell_type": "code",
   "execution_count": null,
   "id": "d2859116",
   "metadata": {},
   "outputs": [],
   "source": []
  }
 ],
 "metadata": {
  "kernelspec": {
   "display_name": "Python 3 (ipykernel)",
   "language": "python",
   "name": "python3"
  },
  "language_info": {
   "codemirror_mode": {
    "name": "ipython",
    "version": 3
   },
   "file_extension": ".py",
   "mimetype": "text/x-python",
   "name": "python",
   "nbconvert_exporter": "python",
   "pygments_lexer": "ipython3",
   "version": "3.9.12"
  }
 },
 "nbformat": 4,
 "nbformat_minor": 5
}
